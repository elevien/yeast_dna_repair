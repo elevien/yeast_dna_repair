{
 "cells": [
  {
   "cell_type": "code",
   "execution_count": 182,
   "metadata": {},
   "outputs": [],
   "source": [
    "import random,copy,math,time,os,csv,sys\n",
    "\n",
    "from importlib import reload\n",
    "\n",
    "import pystan\n",
    "\n",
    "import pandas as pd\n",
    "import numpy as np\n",
    "import pymc3 as pm\n",
    "import pickle\n",
    "import corner\n",
    "\n",
    "import scripts.data_processing as dp\n",
    "import scripts.single_cell_inference as sc\n",
    "\n",
    "import matplotlib.pyplot as plt\n",
    "\n",
    "# import random,copy,math,time,os,csv,sys\n",
    "\n",
    "# from importlib import reload\n",
    "\n",
    "# import statsmodels.api as st\n",
    "# import pandas as pd\n",
    "# import pymc3 as pm\n",
    "# from sklearn.linear_model import LinearRegression\n",
    "# import pystan\n",
    "\n",
    "# # numpy/scipy stuff\n",
    "# import numpy as np\n",
    "\n",
    "# # plotting stuff\n",
    "# import matplotlib.pyplot as plt\n",
    "# import matplotlib.style\n",
    "# import matplotlib as mpl\n",
    "# import matplotlib.gridspec as gridspec\n",
    "\n",
    "# %matplotlib inline\n",
    "# print('Running on PyMC3 v{}'.format(pm.__version__))"
   ]
  },
  {
   "cell_type": "code",
   "execution_count": 38,
   "metadata": {},
   "outputs": [],
   "source": []
  },
  {
   "cell_type": "code",
   "execution_count": 39,
   "metadata": {},
   "outputs": [
    {
     "name": "stdout",
     "output_type": "stream",
     "text": [
      "NoGuidedRNA\n",
      "  success!\n",
      "GAA-SpCas9\n",
      "  success!\n",
      "GAA-Cpf1\n",
      "  success!\n",
      "CGG-SpCas9\n",
      "  success!\n",
      "NonRepeatedSequence-SpCas9\n",
      "  success!\n",
      "GAA-SpCas9-2\n",
      "  missing data!\n",
      "NonRepeatedSequence-Cpf1\n",
      "  success!\n",
      "CTG-SpCas9\n",
      "  success!\n"
     ]
    }
   ],
   "source": [
    "data_directory = os.getcwd() + '/../forEthan/'\n",
    "reload(dp)\n",
    "data = dp.get_data(data_directory)"
   ]
  },
  {
   "cell_type": "code",
   "execution_count": 172,
   "metadata": {},
   "outputs": [],
   "source": [
    "def fill_missing(x):\n",
    "    K = len(x)\n",
    "    x_new = [x[0]]\n",
    "    for j in range(1,K):\n",
    "        if x[j]>=x_new[-1]:\n",
    "            x_new.append(x[j])\n",
    "        else:\n",
    "            x_new.append(x_new[-1])\n",
    "    return np.array(x_new)\n",
    "\n",
    "model = pickle.load(open('./scripts/stan_models/constant_break_rate.pkl', 'rb'))\n",
    "exp = data[1]\n",
    "K = len(exp['t'][0])\n",
    "N = len(exp['AllCellsBF'][0,:])\n",
    "m = exp['AllCellsBF'].T\n",
    "r = exp['AllCellsGFP'].T\n",
    "m2 = np.array([fill_missing(mk) for mk in m])\n",
    "r2 = np.array([fill_missing(rk) for rk in r])"
   ]
  },
  {
   "cell_type": "code",
   "execution_count": 173,
   "metadata": {},
   "outputs": [
    {
     "name": "stdout",
     "output_type": "stream",
     "text": [
      "[1 1 1 1 1 1 1 1 1 1 1 1 2 2 2 2 2 2 3 2 2 2 3 3 3 3 3 3 3 3 3 3 3 3 3 3 3\n",
      " 3 3 3 3 3 3 3 3 4 4 5 5 5 5 5 6 6 6 6 6 6 6 6 6]\n",
      "[1 1 1 1 1 1 1 1 1 1 1 1 2 2 2 2 2 2 3 3 3 3 3 3 3 3 3 3 3 3 3 3 3 3 3 3 3\n",
      " 3 3 3 3 3 3 3 3 4 4 5 5 5 5 5 6 6 6 6 6 6 6 6 6]\n"
     ]
    }
   ],
   "source": [
    "u = m[14]#np.array([0,0,1,2,1,33])\n",
    "print(u)\n",
    "print(fill_missing(u))"
   ]
  },
  {
   "cell_type": "code",
   "execution_count": 175,
   "metadata": {},
   "outputs": [],
   "source": [
    "for k in range(N):\n",
    "    tests = m2[k][1:]>=m2[k][:-1]\n",
    "    if len(tests[tests==False])>0:\n",
    "        print(k)\n",
    "        print(m2[k])"
   ]
  },
  {
   "cell_type": "code",
   "execution_count": 136,
   "metadata": {},
   "outputs": [
    {
     "data": {
      "image/png": "[encoded data removed]",
      "text/plain": [
       "<Figure size 432x288 with 1 Axes>"
      ]
     },
     "metadata": {
      "needs_background": "light"
     },
     "output_type": "display_data"
    }
   ],
   "source": [
    "plt.plot(r2.T,'C0-');"
   ]
  },
  {
   "cell_type": "code",
   "execution_count": null,
   "metadata": {},
   "outputs": [],
   "source": [
    "stan_data = {'N':N,\n",
    "             'K':K,\n",
    "             'm':m2,\n",
    "             'r':r2,\n",
    "             'dt':20}\n",
    "fit = model.sampling(data=stan_data, iter=10000, chains=4)"
   ]
  },
  {
   "cell_type": "code",
   "execution_count": 177,
   "metadata": {},
   "outputs": [
    {
     "data": {
      "text/plain": [
       "Inference for Stan model: anon_model_bbc102f0cf54cbef660bc6c1b096f039.\n",
       "4 chains, each with iter=1000; warmup=500; thin=1; \n",
       "post-warmup draws per chain=500, total post-warmup draws=2000.\n",
       "\n",
       "        mean se_mean     sd   2.5%    25%    50%    75%  97.5%  n_eff   Rhat\n",
       "beta  1.7e-4  9.4e-7 4.0e-5 1.0e-4 1.4e-4 1.6e-4 1.9e-4 2.5e-4   1857    1.0\n",
       "alpha 2.4e-3  2.4e-6 9.9e-5 2.2e-3 2.4e-3 2.4e-3 2.5e-3 2.6e-3   1688    1.0\n",
       "lp__   -1201    0.03   0.95  -1203  -1201  -1200  -1200  -1200   1007    1.0\n",
       "\n",
       "Samples were drawn using NUTS at Mon May 25 15:35:59 2020.\n",
       "For each parameter, n_eff is a crude measure of effective sample size,\n",
       "and Rhat is the potential scale reduction factor on split chains (at \n",
       "convergence, Rhat=1)."
      ]
     },
     "execution_count": 177,
     "metadata": {},
     "output_type": "execute_result"
    }
   ],
   "source": [
    "fit"
   ]
  },
  {
   "cell_type": "code",
   "execution_count": 184,
   "metadata": {},
   "outputs": [
    {
     "name": "stderr",
     "output_type": "stream",
     "text": [
      "WARNING:root:Too few points to create valid contours\n"
     ]
    },
    {
     "data": {
      "image/png": "[encoded data removed]",
      "text/plain": [
       "<Figure size 396x396 with 4 Axes>"
      ]
     },
     "metadata": {
      "needs_background": "light"
     },
     "output_type": "display_data"
    }
   ],
   "source": [
    "stacks = np.vstack([fit.extract()['alpha'],fit.extract()['beta']]).T\n",
    "fig = corner.corner(stacks,bins=100)"
   ]
  },
  {
   "cell_type": "code",
   "execution_count": 17,
   "metadata": {},
   "outputs": [
    {
     "name": "stdout",
     "output_type": "stream",
     "text": [
      "[255   2   1   1   3 255   1   2   2   2   1   1   1   4   3   2   3   1\n",
      "   5   1   4   2 254   8   5   6  13   4  10   5   8   6  14 252  17   9\n",
      "  12]\n"
     ]
    },
    {
     "data": {
      "text/plain": [
       "Text(0.5, 0, 'Cells')"
      ]
     },
     "execution_count": 17,
     "metadata": {},
     "output_type": "execute_result"
    },
    {
     "data": {
      "image/png": "[encoded data removed]",
      "text/plain": [
       "<Figure size 432x288 with 1 Axes>"
      ]
     },
     "metadata": {
      "needs_background": "light"
     },
     "output_type": "display_data"
    }
   ],
   "source": [
    "exp = data[5]\n",
    "t = exp['t'][0]\n",
    "k = 2\n",
    "m,r = exp['OneCellBF'].T[k],exp['OneCellGFP'].T[k]\n",
    "#print(r)\n",
    "plt.plot(t,m,label='BF')\n",
    "plt.plot(t,r,label='GFP')\n",
    "T,jump_times,jump_cells,taus,ind_gfp = sc.get_jumps(t,m,r)\n",
    "[plt.plot(t*np.ones(4),np.linspace(0,40,4),'k') for t in jump_times]\n",
    "plt.plot(jump_times[-1]*np.ones(4),np.linspace(0,40,4),'k',label='Jumps')\n",
    "plt.semilogy(jump_times[:-1],jump_cells,'o',label='BF (Jumps)')\n",
    "print(jump_cells[1:]-jump_cells[:-1])\n",
    "jump_times[:-1]\n",
    "#print(T)\n",
    "#print(np.dot(taus[:-1],jump_cells))\n",
    "ax = plt.gca()\n",
    "ax.legend(frameon=False)\n",
    "ax.set_ylabel('Time')\n",
    "ax.set_xlabel('Cells')"
   ]
  },
  {
   "cell_type": "code",
   "execution_count": 18,
   "metadata": {},
   "outputs": [
    {
     "name": "stdout",
     "output_type": "stream",
     "text": [
      "Number of wells =  27\n",
      "-----\n",
      "3\n",
      "Missing jumps at 17 points in well 0\n",
      "[ 3  4  5  7  9 11 13 17 19 23 26 27 28 32 37 40 46 47 48 57 59 67 73 77]\n",
      "[1 1 2 2 2 2 4 2 4 3 1 1 4 5 3 6 1 1 9 2 8 6 4]\n",
      "[2 2 2 2 4 2 4 3 4 5 3 6 9 2 8 6 4]\n",
      "-----\n",
      "-----\n",
      "-----\n",
      "5\n",
      "-----\n",
      "-----\n",
      "-----\n",
      "-----\n",
      "29\n",
      "Missing jumps at 4 points in well 7\n",
      "[ 2  3  4  5  7  8  9 10 13 14 15 17 18 19 20 21 22 25 26 27 28]\n",
      "[1 1 1 2 1 1 1 3 1 1 2 1 1 1 1 1 3 1 1 1]\n",
      "[2 3 2 3]\n",
      "-----\n",
      "11\n",
      "-----\n",
      "17\n",
      "Missing jumps at 4 points in well 9\n",
      "[ 2  3  5  6  7 10 11 12 14 15 18]\n",
      "[1 2 1 1 3 1 1 2 1 3]\n",
      "[2 3 2 3]\n",
      "-----\n",
      "11\n",
      "Missing jumps at 1 points in well 10\n",
      "[ 2  3  5  6  7  8  9 10]\n",
      "[1 2 1 1 1 1 1]\n",
      "[2]\n",
      "-----\n",
      "-----\n",
      "-----\n",
      "-----\n",
      "-----\n",
      "-----\n",
      "-----\n",
      "-----\n",
      "-----\n",
      "16\n",
      "Missing jumps at 8 points in well 19\n",
      "[ 2  3  4  5  6  7  8 10 11 12 13 14 15 17 20 25 27 26 28 31]\n",
      "[  1   1   1   1   1   1   2   1   1   1   1   1   2   3   5   2 255   2\n",
      "   3]\n",
      "[  2   2   3   5   2 255   2   3]\n",
      "-----\n",
      "9\n",
      "-----\n",
      "-----\n",
      "23\n",
      "Missing jumps at 4 points in well 22\n",
      "[ 2  3  4  5  6  7  9 10 11 12 13 15 16 19 21]\n",
      "[1 1 1 1 1 2 1 1 1 1 2 1 3 2]\n",
      "[2 2 3 2]\n",
      "-----\n",
      "23\n",
      "Missing jumps at 4 points in well 23\n",
      "[ 2  3  5  6  7  8  9 10 11 13 15 16 17 18 20 21]\n",
      "[1 2 1 1 1 1 1 1 2 2 1 1 1 2 1]\n",
      "[2 2 2 2]\n",
      "-----\n",
      "4\n",
      "-----\n",
      "12\n",
      "Missing jumps at 2 points in well 25\n",
      "[ 2  3  4  5  6  7  9 12]\n",
      "[1 1 1 1 1 2 3]\n",
      "[2 3]\n",
      "-----\n",
      "10\n",
      "Missing jumps at 2 points in well 26\n",
      "[2 3 4 6 8 9]\n",
      "[1 1 2 2 1]\n",
      "[2 2]\n"
     ]
    }
   ],
   "source": [
    "exp = data[1]\n",
    "t = exp['t'][0]\n",
    "print(\"Number of wells = \",len(exp['OneCellBF'].T))\n",
    "for k in range(len(exp['OneCellBF'].T)):\n",
    "    print('-----')\n",
    "    m,r = exp['OneCellBF'].T[k],exp['OneCellGFP'].T[k]\n",
    "    if np.max(r)>0:\n",
    "        print(np.max(r))\n",
    "        T,jump_times,jump_cells,taus,ind_gfp  = sc.get_jumps(t,m,r)\n",
    "        djump_cells = jump_cells[1:]-jump_cells[:-1]\n",
    "        if len(djump_cells[djump_cells>1])>0:\n",
    "            print(\"Missing jumps at \"+str(len(djump_cells[djump_cells>1]))+ \" points in well \" + str(k))\n",
    "            print(jump_cells)\n",
    "            print(djump_cells)\n",
    "            print(djump_cells[djump_cells>1])"
   ]
  },
  {
   "cell_type": "code",
   "execution_count": 39,
   "metadata": {},
   "outputs": [],
   "source": [
    "def get_cell_cycle_times(exp):\n",
    "    Tgfp = []\n",
    "    Tmax = []\n",
    "    for k in range(len(exp['OneCellBF'].T)):\n",
    "        m,r = exp['OneCellBF'].T[k],exp['OneCellGFP'].T[k]\n",
    "\n",
    "        if np.max(r)>0: # if there is at least one gfp cell by the end\n",
    "            tgfp,jump_times,jump_cells,taus,ind_gfp  = sc.get_jumps(t,m,r)\n",
    "            djump_cells = jump_cells[1:]-jump_cells[:-1]\n",
    "            tmax = np.dot(taus[:-1],jump_cells)\n",
    "            if tgfp<tmax:\n",
    "                Tgfp.append(tgfp)\n",
    "                Tmax.append(tmax)\n",
    "    \n",
    "    return np.array(Tgfp,dtype=float),np.array(Tmax,dtype=float)"
   ]
  },
  {
   "cell_type": "code",
   "execution_count": 97,
   "metadata": {},
   "outputs": [],
   "source": [
    "\n",
    "#plt.plot(Tgfp,Tmax,'o')\n",
    "#plt.plot(Tgfp,Tgfp,'-')\n",
    "#[t<g for t,g in zip(Tgfp,Tmax)]"
   ]
  },
  {
   "cell_type": "code",
   "execution_count": 110,
   "metadata": {},
   "outputs": [
    {
     "data": {
      "text/plain": [
       "(0, 0.005)"
      ]
     },
     "execution_count": 110,
     "metadata": {},
     "output_type": "execute_result"
    },
    {
     "data": {
      "image/png": "[encoded data removed]",
      "text/plain": [
       "<Figure size 432x288 with 1 Axes>"
      ]
     },
     "metadata": {
      "needs_background": "light"
     },
     "output_type": "display_data"
    }
   ],
   "source": [
    "Tgfp,Tmax =  get_cell_cycle_times(data[2])\n",
    "stan_data = {'N':len(Tgfp),\n",
    "        'tgfp':Tgfp,\n",
    "        'tmax': Tmax}\n",
    "\n",
    "fit = model.sampling(data=stan_data, iter=1000, chains=4)\n",
    "plt.hist(fit.extract()['beta'],20);\n",
    "ax= plt.gca()\n",
    "ax.set_xlim([0,0.005])\n",
    "\n",
    "Tgfp,Tmax =  get_cell_cycle_times(data[4])\n",
    "stan_data = {'N':len(Tgfp),\n",
    "        'tgfp':Tgfp,\n",
    "        'tmax': Tmax}\n",
    "\n",
    "fit = model.sampling(data=stan_data, iter=1000, chains=4)\n",
    "plt.hist(fit.extract()['beta'],20);\n",
    "ax= plt.gca()\n",
    "ax.set_xlim([0,0.005])"
   ]
  },
  {
   "cell_type": "code",
   "execution_count": 122,
   "metadata": {},
   "outputs": [
    {
     "data": {
      "text/plain": [
       "array([   0,   20,   40,   60,   80,  100,  120,  140,  160,  180,  200,\n",
       "        220,  240,  260,  280,  300,  320,  340,  360,  380,  400,  420,\n",
       "        440,  460,  480,  500,  520,  540,  560,  580,  600,  620,  640,\n",
       "        660,  680,  700,  720,  740,  760,  780,  800,  820,  840,  860,\n",
       "        880,  900,  920,  940,  960,  980, 1000, 1020, 1040, 1060, 1080,\n",
       "       1100, 1120, 1140, 1160, 1180, 1200, 1220, 1240, 1260, 1280, 1300,\n",
       "       1320, 1340, 1360, 1380, 1400, 1420, 1440], dtype=uint16)"
      ]
     },
     "execution_count": 122,
     "metadata": {},
     "output_type": "execute_result"
    }
   ],
   "source": [
    "data[3]['t'][0]"
   ]
  },
  {
   "cell_type": "code",
   "execution_count": null,
   "metadata": {},
   "outputs": [],
   "source": []
  }
 ],
 "metadata": {
  "kernelspec": {
   "display_name": "Python 3",
   "language": "python",
   "name": "python3"
  },
  "language_info": {
   "codemirror_mode": {
    "name": "ipython",
    "version": 3
   },
   "file_extension": ".py",
   "mimetype": "text/x-python",
   "name": "python",
   "nbconvert_exporter": "python",
   "pygments_lexer": "ipython3",
   "version": "3.7.3"
  }
 },
 "nbformat": 4,
 "nbformat_minor": 2
}
