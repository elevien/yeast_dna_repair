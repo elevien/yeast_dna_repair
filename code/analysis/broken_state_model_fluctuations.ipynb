{
 "cells": [
  {
   "cell_type": "markdown",
   "metadata": {},
   "source": [
    "\n",
    "# Setup\n",
    "\n",
    "## Load packages"
   ]
  },
  {
   "cell_type": "code",
   "execution_count": 2,
   "metadata": {},
   "outputs": [],
   "source": [
    "import pandas as pd\n",
    "import numpy as np\n",
    "import matplotlib.pyplot as plt\n",
    "from scipy import stats\n",
    "from scipy.special import binom\n",
    "import itertools\n",
    "import helpers as hp\n",
    "import simulations as sims\n",
    "import importlib\n",
    "importlib.reload(sims)\n",
    "\n",
    "plt.style.use('ggplot')\n",
    "\n",
    "FIG_PATH = \"./../../figures/\""
   ]
  },
  {
   "cell_type": "code",
   "execution_count": 51,
   "metadata": {},
   "outputs": [],
   "source": [
    "# copied and pasted from mathematica\n",
    "def M(t,p,q):\n",
    "    return -((2**t*(1 - p)**t*(-1 + 2*p - q))/(1 - 2*p + q))\n",
    "def B(t,p,q):\n",
    "    return (2*p*(1 - q)**t)/(-1 + 2*p - q) + (2**(1 + t)*(1 - p)**t*p)/(1 - 2*p + q)\n",
    "def G(t,p,q):\n",
    "    return (2**t*q)/(1 + q) - (2*p*(1 - q)**t*q)/((-1 + 2*p - q)*(1 + q)) - (2**t*(1 - p)**t*q)/(1 - 2*p + q)\n",
    "def Sigma(t,p,q):\n",
    "    return np.array([[2*p*(1-p)*M(t-1,p,q),2*p*(1-p)*M(t-1,p,q),0],\\\n",
    "                     [2*p*(1-p)*M(t-1,p,q),q*(1-q)*B(t-1,p,q)+2*p*(1-p)*M(t-1,p,q),q*(1-q)*B(t-1,p,q)],\\\n",
    "                    [0,q*(1-q)*B(t-1,p,q),q*(1-q)*B(t-1,p,q)]])\n",
    "def d(p,q):\n",
    "    return np.array([[2*(1-p),0,0],[2*p,1-q,0],[0,q,2]])\n",
    "def L(p,q):\n",
    "    return np.array([[1,1,1],[0,0,1]])\n",
    "\n",
    "def Omega(t,p,q):\n",
    "    Om = Sigma(t,p,q)\n",
    "    for j in range(1,t-1):\n",
    "        dp = np.linalg.matrix_power(d(p,q),t-j)\n",
    "        Om = Om + dp @ Sigma(j,p,q) @ np.transpose(dp)\n",
    "    return Om\n",
    "\n",
    "def Omega_bar(t,p,q):\n",
    "    return L(p,q) @ Omega(t,p,q) @ np.transpose(L(p,q))\n",
    "\n",
    "# this is the complicated analytical formula for the variance conditioned on \n",
    "# the total number of cells\n",
    "def varGN_theory(t,p,q):\n",
    "    M = Omega_bar(t,p,q)\n",
    "    return M[1,1]-M[0,1]**2/M[0,0]"
   ]
  },
  {
   "cell_type": "code",
   "execution_count": 46,
   "metadata": {},
   "outputs": [
    {
     "data": {
      "text/plain": [
       "array([[156313.90878385, 126968.04053044],\n",
       "       [126968.04053044, 104221.63290982]])"
      ]
     },
     "execution_count": 46,
     "metadata": {},
     "output_type": "execute_result"
    }
   ],
   "source": [
    "Omega_bar(10,0.2,0.8)"
   ]
  },
  {
   "cell_type": "code",
   "execution_count": 190,
   "metadata": {},
   "outputs": [
    {
     "data": {
      "text/plain": [
       "[<matplotlib.lines.Line2D at 0x7fce1c111668>]"
      ]
     },
     "execution_count": 190,
     "metadata": {},
     "output_type": "execute_result"
    },
    {
     "data": {
      "image/png": "[encoded data removed]",
      "text/plain": [
       "<Figure size 432x288 with 1 Axes>"
      ]
     },
     "metadata": {},
     "output_type": "display_data"
    }
   ],
   "source": [
    "plt.semilogy([varGN_theory(t,0.4,0.999) for t in range(30)])\n",
    "plt.semilogy([varGN_theory(t,0.4,0.1) for t in range(30)])\n",
    "\n",
    "plt.semilogy([varGN_theory(t,0.2,0.999) for t in range(30)])\n",
    "plt.semilogy([varGN_theory(t,0.2,0.1) for t in range(30)])"
   ]
  },
  {
   "cell_type": "code",
   "execution_count": 156,
   "metadata": {},
   "outputs": [
    {
     "data": {
      "text/plain": [
       "[-0.3500000000000001,\n",
       " 0.0,\n",
       " 0.08400000000000002,\n",
       " 0.11272214530419372,\n",
       " 1.1173050750009597,\n",
       " 2.947816341062799,\n",
       " 4.808254525567918,\n",
       " 5.920187594383208,\n",
       " 6.2057352743916,\n",
       " 5.953737991710113,\n",
       " 5.435341981883539,\n",
       " 4.819702080247225,\n",
       " 4.19827705406351,\n",
       " 3.61619482957758,\n",
       " 3.092865625396371,\n",
       " 2.633865024894476,\n",
       " 2.2375904470682144,\n",
       " 1.898979902267456,\n",
       " 1.611581563949585,\n",
       " 1.368682861328125,\n",
       " 1.1638946533203125,\n",
       " 0.991455078125,\n",
       " 0.84625244140625,\n",
       " 0.723876953125,\n",
       " 0.6201171875,\n",
       " 0.53515625,\n",
       " 0.453125,\n",
       " 0.375,\n",
       " 0.5,\n",
       " 1.0,\n",
       " 4.0,\n",
       " 0.0,\n",
       " 0.0,\n",
       " 0.0,\n",
       " 0.0,\n",
       " 0.0,\n",
       " 0.0,\n",
       " 0.0,\n",
       " 0.0,\n",
       " 0.0,\n",
       " 0.0,\n",
       " 0.0,\n",
       " 0.0,\n",
       " 0.0,\n",
       " 0.0,\n",
       " 0.0,\n",
       " 0.0,\n",
       " 0.0,\n",
       " 0.0,\n",
       " 0.0]"
      ]
     },
     "execution_count": 156,
     "metadata": {},
     "output_type": "execute_result"
    }
   ],
   "source": [
    "[varGN_theory(t,0.7,0.1) for t in range(50)]"
   ]
  },
  {
   "cell_type": "code",
   "execution_count": 177,
   "metadata": {},
   "outputs": [
    {
     "name": "stderr",
     "output_type": "stream",
     "text": [
      "/Users/E/anaconda3/lib/python3.7/site-packages/ipykernel_launcher.py:29: RuntimeWarning: invalid value encountered in double_scalars\n",
      "/Users/E/anaconda3/lib/python3.7/site-packages/ipykernel_launcher.py:3: RuntimeWarning: invalid value encountered in double_scalars\n",
      "  This is separate from the ipykernel package so we can avoid doing imports until\n",
      "/Users/E/anaconda3/lib/python3.7/site-packages/ipykernel_launcher.py:5: RuntimeWarning: divide by zero encountered in double_scalars\n",
      "  \"\"\"\n",
      "/Users/E/anaconda3/lib/python3.7/site-packages/ipykernel_launcher.py:21: RuntimeWarning: invalid value encountered in matmul\n",
      "/Users/E/anaconda3/lib/python3.7/site-packages/ipykernel_launcher.py:5: RuntimeWarning: invalid value encountered in double_scalars\n",
      "  \"\"\"\n",
      "/Users/E/anaconda3/lib/python3.7/site-packages/ipykernel_launcher.py:10: RuntimeWarning: invalid value encountered in double_scalars\n",
      "  # Remove the CWD from sys.path while we load stuff.\n",
      "/Users/E/anaconda3/lib/python3.7/site-packages/ipykernel_launcher.py:11: RuntimeWarning: invalid value encountered in double_scalars\n",
      "  # This is added back by InteractiveShellApp.init_path()\n"
     ]
    }
   ],
   "source": [
    "qs = np.linspace(0,1,100)\n",
    "ps = np.linspace(0,1,100)\n",
    "gr = np.zeros((100,100))\n",
    "for k in range(100):\n",
    "    for j in range(100):\n",
    "        v = varGN_theory(40,qs[k],ps[j])\n",
    "        if v>1:\n",
    "            gr[k,j] = 1\n",
    "        else:\n",
    "            gr[k,j] = 0"
   ]
  },
  {
   "cell_type": "code",
   "execution_count": 178,
   "metadata": {},
   "outputs": [
    {
     "data": {
      "image/png": "[encoded data removed]",
      "text/plain": [
       "<Figure size 288x288 with 1 Axes>"
      ]
     },
     "metadata": {},
     "output_type": "display_data"
    }
   ],
   "source": [
    "plt.matshow(gr.T)\n",
    "plt.grid(False)"
   ]
  },
  {
   "cell_type": "code",
   "execution_count": 97,
   "metadata": {},
   "outputs": [
    {
     "ename": "SyntaxError",
     "evalue": "invalid syntax (<ipython-input-97-442101a85312>, line 1)",
     "output_type": "error",
     "traceback": [
      "\u001b[0;36m  File \u001b[0;32m\"<ipython-input-97-442101a85312>\"\u001b[0;36m, line \u001b[0;32m1\u001b[0m\n\u001b[0;31m    help ?\u001b[0m\n\u001b[0m         ^\u001b[0m\n\u001b[0;31mSyntaxError\u001b[0m\u001b[0;31m:\u001b[0m invalid syntax\n"
     ]
    }
   ],
   "source": []
  },
  {
   "cell_type": "code",
   "execution_count": null,
   "metadata": {},
   "outputs": [],
   "source": []
  }
 ],
 "metadata": {
  "kernelspec": {
   "display_name": "Python 3",
   "language": "python",
   "name": "python3"
  },
  "language_info": {
   "codemirror_mode": {
    "name": "ipython",
    "version": 3
   },
   "file_extension": ".py",
   "mimetype": "text/x-python",
   "name": "python",
   "nbconvert_exporter": "python",
   "pygments_lexer": "ipython3",
   "version": "3.7.3"
  }
 },
 "nbformat": 4,
 "nbformat_minor": 2
}
