{
 "cells": [
  {
   "cell_type": "markdown",
   "metadata": {},
   "source": [
    "# Break rate inference"
   ]
  },
  {
   "cell_type": "markdown",
   "metadata": {},
   "source": [
    "# Setup\n",
    "\n",
    "## Load packages"
   ]
  },
  {
   "cell_type": "code",
   "execution_count": 163,
   "metadata": {},
   "outputs": [],
   "source": [
    "import pandas as pd\n",
    "import numpy as np\n",
    "import matplotlib.pyplot as plt\n",
    "from scipy import stats\n",
    "import itertools"
   ]
  },
  {
   "cell_type": "markdown",
   "metadata": {},
   "source": [
    "## Load processed data"
   ]
  },
  {
   "cell_type": "code",
   "execution_count": 164,
   "metadata": {},
   "outputs": [],
   "source": [
    "data= pd.read_csv('./../../experimental_data/processed_data/single_cell_data.csv')\n",
    "data_avg = pd.read_csv('./../../experimental_data/processed_data/avg_data.csv')\n",
    "experiments = data.experiment.unique()"
   ]
  },
  {
   "cell_type": "code",
   "execution_count": 165,
   "metadata": {},
   "outputs": [
    {
     "data": {
      "text/html": [
       "<div>\n",
       "<style scoped>\n",
       "    .dataframe tbody tr th:only-of-type {\n",
       "        vertical-align: middle;\n",
       "    }\n",
       "\n",
       "    .dataframe tbody tr th {\n",
       "        vertical-align: top;\n",
       "    }\n",
       "\n",
       "    .dataframe thead th {\n",
       "        text-align: right;\n",
       "    }\n",
       "</style>\n",
       "<table border=\"1\" class=\"dataframe\">\n",
       "  <thead>\n",
       "    <tr style=\"text-align: right;\">\n",
       "      <th></th>\n",
       "      <th>Unnamed: 0</th>\n",
       "      <th>well</th>\n",
       "      <th>bf</th>\n",
       "      <th>gfp</th>\n",
       "      <th>time</th>\n",
       "      <th>experiment</th>\n",
       "      <th>defect</th>\n",
       "      <th>nuclease</th>\n",
       "    </tr>\n",
       "  </thead>\n",
       "  <tbody>\n",
       "    <tr>\n",
       "      <th>0</th>\n",
       "      <td>0</td>\n",
       "      <td>0.0</td>\n",
       "      <td>1</td>\n",
       "      <td>0.0</td>\n",
       "      <td>0</td>\n",
       "      <td>NR-SpCas9</td>\n",
       "      <td>NR</td>\n",
       "      <td>SpCas9</td>\n",
       "    </tr>\n",
       "    <tr>\n",
       "      <th>1</th>\n",
       "      <td>1</td>\n",
       "      <td>0.0</td>\n",
       "      <td>1</td>\n",
       "      <td>0.0</td>\n",
       "      <td>20</td>\n",
       "      <td>NR-SpCas9</td>\n",
       "      <td>NR</td>\n",
       "      <td>SpCas9</td>\n",
       "    </tr>\n",
       "    <tr>\n",
       "      <th>2</th>\n",
       "      <td>2</td>\n",
       "      <td>0.0</td>\n",
       "      <td>1</td>\n",
       "      <td>0.0</td>\n",
       "      <td>40</td>\n",
       "      <td>NR-SpCas9</td>\n",
       "      <td>NR</td>\n",
       "      <td>SpCas9</td>\n",
       "    </tr>\n",
       "    <tr>\n",
       "      <th>3</th>\n",
       "      <td>3</td>\n",
       "      <td>0.0</td>\n",
       "      <td>1</td>\n",
       "      <td>0.0</td>\n",
       "      <td>60</td>\n",
       "      <td>NR-SpCas9</td>\n",
       "      <td>NR</td>\n",
       "      <td>SpCas9</td>\n",
       "    </tr>\n",
       "    <tr>\n",
       "      <th>4</th>\n",
       "      <td>4</td>\n",
       "      <td>0.0</td>\n",
       "      <td>1</td>\n",
       "      <td>0.0</td>\n",
       "      <td>80</td>\n",
       "      <td>NR-SpCas9</td>\n",
       "      <td>NR</td>\n",
       "      <td>SpCas9</td>\n",
       "    </tr>\n",
       "    <tr>\n",
       "      <th>...</th>\n",
       "      <td>...</td>\n",
       "      <td>...</td>\n",
       "      <td>...</td>\n",
       "      <td>...</td>\n",
       "      <td>...</td>\n",
       "      <td>...</td>\n",
       "      <td>...</td>\n",
       "      <td>...</td>\n",
       "    </tr>\n",
       "    <tr>\n",
       "      <th>90377</th>\n",
       "      <td>10434</td>\n",
       "      <td>142.0</td>\n",
       "      <td>16</td>\n",
       "      <td>8.0</td>\n",
       "      <td>1360</td>\n",
       "      <td>GAA-SpCas9-2</td>\n",
       "      <td>GAA</td>\n",
       "      <td>SpCas9</td>\n",
       "    </tr>\n",
       "    <tr>\n",
       "      <th>90378</th>\n",
       "      <td>10435</td>\n",
       "      <td>142.0</td>\n",
       "      <td>16</td>\n",
       "      <td>8.0</td>\n",
       "      <td>1380</td>\n",
       "      <td>GAA-SpCas9-2</td>\n",
       "      <td>GAA</td>\n",
       "      <td>SpCas9</td>\n",
       "    </tr>\n",
       "    <tr>\n",
       "      <th>90379</th>\n",
       "      <td>10436</td>\n",
       "      <td>142.0</td>\n",
       "      <td>16</td>\n",
       "      <td>8.0</td>\n",
       "      <td>1400</td>\n",
       "      <td>GAA-SpCas9-2</td>\n",
       "      <td>GAA</td>\n",
       "      <td>SpCas9</td>\n",
       "    </tr>\n",
       "    <tr>\n",
       "      <th>90380</th>\n",
       "      <td>10437</td>\n",
       "      <td>142.0</td>\n",
       "      <td>16</td>\n",
       "      <td>8.0</td>\n",
       "      <td>1420</td>\n",
       "      <td>GAA-SpCas9-2</td>\n",
       "      <td>GAA</td>\n",
       "      <td>SpCas9</td>\n",
       "    </tr>\n",
       "    <tr>\n",
       "      <th>90381</th>\n",
       "      <td>10438</td>\n",
       "      <td>142.0</td>\n",
       "      <td>16</td>\n",
       "      <td>15.0</td>\n",
       "      <td>1440</td>\n",
       "      <td>GAA-SpCas9-2</td>\n",
       "      <td>GAA</td>\n",
       "      <td>SpCas9</td>\n",
       "    </tr>\n",
       "  </tbody>\n",
       "</table>\n",
       "<p>90382 rows × 8 columns</p>\n",
       "</div>"
      ],
      "text/plain": [
       "       Unnamed: 0   well  bf   gfp  time    experiment defect nuclease\n",
       "0               0    0.0   1   0.0     0     NR-SpCas9     NR   SpCas9\n",
       "1               1    0.0   1   0.0    20     NR-SpCas9     NR   SpCas9\n",
       "2               2    0.0   1   0.0    40     NR-SpCas9     NR   SpCas9\n",
       "3               3    0.0   1   0.0    60     NR-SpCas9     NR   SpCas9\n",
       "4               4    0.0   1   0.0    80     NR-SpCas9     NR   SpCas9\n",
       "...           ...    ...  ..   ...   ...           ...    ...      ...\n",
       "90377       10434  142.0  16   8.0  1360  GAA-SpCas9-2    GAA   SpCas9\n",
       "90378       10435  142.0  16   8.0  1380  GAA-SpCas9-2    GAA   SpCas9\n",
       "90379       10436  142.0  16   8.0  1400  GAA-SpCas9-2    GAA   SpCas9\n",
       "90380       10437  142.0  16   8.0  1420  GAA-SpCas9-2    GAA   SpCas9\n",
       "90381       10438  142.0  16  15.0  1440  GAA-SpCas9-2    GAA   SpCas9\n",
       "\n",
       "[90382 rows x 8 columns]"
      ]
     },
     "execution_count": 165,
     "metadata": {},
     "output_type": "execute_result"
    }
   ],
   "source": [
    "data"
   ]
  },
  {
   "cell_type": "code",
   "execution_count": 167,
   "metadata": {},
   "outputs": [],
   "source": [
    "fits = pd.DataFrame()\n",
    "fits['experiment'] =experiments\n",
    "fits['defect'] = [data[data.experiment==exp].defect.values[0] for exp in experiments]\n",
    "fits['nuclease'] = [data[data.experiment==exp].nuclease.values[0] for exp in experiments]"
   ]
  },
  {
   "cell_type": "code",
   "execution_count": null,
   "metadata": {},
   "outputs": [],
   "source": []
  },
  {
   "cell_type": "markdown",
   "metadata": {},
   "source": [
    "# Population fits"
   ]
  },
  {
   "cell_type": "code",
   "execution_count": 169,
   "metadata": {},
   "outputs": [
    {
     "data": {
      "image/png": "[encoded data removed]",
      "text/plain": [
       "<Figure size 720x216 with 12 Axes>"
      ]
     },
     "metadata": {
      "needs_background": "light"
     },
     "output_type": "display_data"
    }
   ],
   "source": [
    "fig,axs = plt.subplots(ncols = len(experiments),figsize=(10,3),sharex=True,sharey=True)\n",
    "k = 0\n",
    "for exp in experiments:\n",
    "    ax= axs[k]\n",
    "    \n",
    "    ax.semilogy(data_avg[data_avg.experiment== exp].time,data_avg[data_avg.experiment==exp].bf)\n",
    "    ax.semilogy(data_avg[data_avg.experiment== exp].time,data_avg[data_avg.experiment==exp].gfp)\n",
    "    \n",
    "    if 'exp' != 'NoGuideRNA':\n",
    "        ax.set_title(data_avg[data_avg.experiment== exp].defect.values[0]\\\n",
    "                     +'\\n'+data_avg[data_avg.experiment== exp].nuclease.values[0])\n",
    "    k +=1"
   ]
  },
  {
   "cell_type": "code",
   "execution_count": 170,
   "metadata": {},
   "outputs": [
    {
     "data": {
      "image/png": "[encoded data removed]",
      "text/plain": [
       "<Figure size 720x216 with 11 Axes>"
      ]
     },
     "metadata": {
      "needs_background": "light"
     },
     "output_type": "display_data"
    }
   ],
   "source": [
    "fig,axs = plt.subplots(ncols = len(experiments)-1,figsize=(10,3),sharex=True,sharey=True)\n",
    "k = 0\n",
    "for exp in experiments:\n",
    "    if exp != 'NoGuideRNA':\n",
    "        ax= axs[k]\n",
    "        bf = data_avg[data_avg.experiment==exp].bf.values\n",
    "        gfp = data_avg[data_avg.experiment==exp].gfp.values\n",
    "        lnphi = np.log(1-gfp/bf)\n",
    "        ax.plot(data_avg[data_avg.experiment== exp].time.values,lnphi)\n",
    "        ax.set_title(data_avg[data_avg.experiment== exp].defect.values[0]\\\n",
    "                     +'\\n'+data_avg[data_avg.experiment== exp].nuclease.values[0])\n",
    "        \n",
    "        k +=1"
   ]
  },
  {
   "cell_type": "code",
   "execution_count": 171,
   "metadata": {},
   "outputs": [],
   "source": [
    "def fit_population_alpha(experiment): \n",
    "    time = data_avg[data_avg.experiment==experiment].time.values\n",
    "    bf = data_avg[data_avg.experiment==experiment].bf.values\n",
    "    gfp = data_avg[data_avg.experiment==experiment].gfp.values\n",
    "    \n",
    "    times_middle = time[int(2*len(time)//4):int(3*len(time)//4)]\n",
    "    bf_middle = bf[int(2*len(time)//4):int(3*len(time)//4)]\n",
    "    \n",
    "    results = stats.linregress(times_middle, np.log(bf_middle))\n",
    "    alpha = results.slope\n",
    "    return alpha\n",
    "\n",
    "def fit_population_beta(experiment):\n",
    "    time = data_avg[data_avg.experiment==experiment].time.values\n",
    "    bf = data_avg[data_avg.experiment==experiment].bf.values\n",
    "    gfp = data_avg[data_avg.experiment==experiment].gfp.values\n",
    "    lnphi = np.log(1-gfp/bf)\n",
    "    \n",
    "    times_middle = time[int(2*len(time)//4):int(3*len(time)//4)]\n",
    "    lnphi_middle = lnphi[int(2*len(time)//4):int(3*len(time)//4)]\n",
    "    \n",
    "    results = stats.linregress(times_middle, lnphi_middle)\n",
    "    beta = -results.slope\n",
    "    return beta"
   ]
  },
  {
   "cell_type": "code",
   "execution_count": 172,
   "metadata": {
    "scrolled": true
   },
   "outputs": [
    {
     "data": {
      "text/html": [
       "<div>\n",
       "<style scoped>\n",
       "    .dataframe tbody tr th:only-of-type {\n",
       "        vertical-align: middle;\n",
       "    }\n",
       "\n",
       "    .dataframe tbody tr th {\n",
       "        vertical-align: top;\n",
       "    }\n",
       "\n",
       "    .dataframe thead th {\n",
       "        text-align: right;\n",
       "    }\n",
       "</style>\n",
       "<table border=\"1\" class=\"dataframe\">\n",
       "  <thead>\n",
       "    <tr style=\"text-align: right;\">\n",
       "      <th></th>\n",
       "      <th>experiment</th>\n",
       "      <th>defect</th>\n",
       "      <th>nuclease</th>\n",
       "      <th>alpha_population</th>\n",
       "      <th>beta_population</th>\n",
       "    </tr>\n",
       "  </thead>\n",
       "  <tbody>\n",
       "    <tr>\n",
       "      <th>0</th>\n",
       "      <td>NR-SpCas9</td>\n",
       "      <td>NR</td>\n",
       "      <td>SpCas9</td>\n",
       "      <td>0.003853</td>\n",
       "      <td>0.001968</td>\n",
       "    </tr>\n",
       "    <tr>\n",
       "      <th>1</th>\n",
       "      <td>CTG-Cpf1</td>\n",
       "      <td>CTG</td>\n",
       "      <td>Cpf1</td>\n",
       "      <td>0.003870</td>\n",
       "      <td>0.000103</td>\n",
       "    </tr>\n",
       "    <tr>\n",
       "      <th>2</th>\n",
       "      <td>CGG-Cpf1</td>\n",
       "      <td>CGG</td>\n",
       "      <td>Cpf1</td>\n",
       "      <td>0.003575</td>\n",
       "      <td>0.000011</td>\n",
       "    </tr>\n",
       "    <tr>\n",
       "      <th>3</th>\n",
       "      <td>NoGuideRNA</td>\n",
       "      <td>none</td>\n",
       "      <td>none</td>\n",
       "      <td>0.004020</td>\n",
       "      <td>NaN</td>\n",
       "    </tr>\n",
       "    <tr>\n",
       "      <th>4</th>\n",
       "      <td>CTG-SpCas9-1</td>\n",
       "      <td>CTG</td>\n",
       "      <td>SpCas9</td>\n",
       "      <td>0.003022</td>\n",
       "      <td>0.001116</td>\n",
       "    </tr>\n",
       "    <tr>\n",
       "      <th>5</th>\n",
       "      <td>GAA - Cpf1</td>\n",
       "      <td>GAA</td>\n",
       "      <td>Cpf1</td>\n",
       "      <td>0.003784</td>\n",
       "      <td>0.001377</td>\n",
       "    </tr>\n",
       "    <tr>\n",
       "      <th>6</th>\n",
       "      <td>CTG-SpCas9-2</td>\n",
       "      <td>CTG</td>\n",
       "      <td>SpCas9</td>\n",
       "      <td>0.002333</td>\n",
       "      <td>0.000882</td>\n",
       "    </tr>\n",
       "    <tr>\n",
       "      <th>7</th>\n",
       "      <td>NR-Cpf1-1</td>\n",
       "      <td>NR</td>\n",
       "      <td>Cpf1</td>\n",
       "      <td>0.004093</td>\n",
       "      <td>0.002821</td>\n",
       "    </tr>\n",
       "    <tr>\n",
       "      <th>8</th>\n",
       "      <td>CGG-SpCas9</td>\n",
       "      <td>CGG</td>\n",
       "      <td>SpCas9</td>\n",
       "      <td>0.003871</td>\n",
       "      <td>0.002027</td>\n",
       "    </tr>\n",
       "    <tr>\n",
       "      <th>9</th>\n",
       "      <td>NR-Cpf1-2</td>\n",
       "      <td>NR</td>\n",
       "      <td>Cpf1</td>\n",
       "      <td>0.004097</td>\n",
       "      <td>0.002383</td>\n",
       "    </tr>\n",
       "    <tr>\n",
       "      <th>10</th>\n",
       "      <td>GAA-SpCas9-1</td>\n",
       "      <td>GAA</td>\n",
       "      <td>SpCas9</td>\n",
       "      <td>0.001980</td>\n",
       "      <td>0.000185</td>\n",
       "    </tr>\n",
       "    <tr>\n",
       "      <th>11</th>\n",
       "      <td>GAA-SpCas9-2</td>\n",
       "      <td>GAA</td>\n",
       "      <td>SpCas9</td>\n",
       "      <td>0.001784</td>\n",
       "      <td>0.000403</td>\n",
       "    </tr>\n",
       "  </tbody>\n",
       "</table>\n",
       "</div>"
      ],
      "text/plain": [
       "      experiment defect nuclease  alpha_population  beta_population\n",
       "0      NR-SpCas9     NR   SpCas9          0.003853         0.001968\n",
       "1       CTG-Cpf1    CTG     Cpf1          0.003870         0.000103\n",
       "2       CGG-Cpf1    CGG     Cpf1          0.003575         0.000011\n",
       "3     NoGuideRNA   none     none          0.004020              NaN\n",
       "4   CTG-SpCas9-1    CTG   SpCas9          0.003022         0.001116\n",
       "5     GAA - Cpf1   GAA      Cpf1          0.003784         0.001377\n",
       "6   CTG-SpCas9-2    CTG   SpCas9          0.002333         0.000882\n",
       "7      NR-Cpf1-1     NR     Cpf1          0.004093         0.002821\n",
       "8     CGG-SpCas9    CGG   SpCas9          0.003871         0.002027\n",
       "9      NR-Cpf1-2     NR     Cpf1          0.004097         0.002383\n",
       "10  GAA-SpCas9-1    GAA   SpCas9          0.001980         0.000185\n",
       "11  GAA-SpCas9-2    GAA   SpCas9          0.001784         0.000403"
      ]
     },
     "execution_count": 172,
     "metadata": {},
     "output_type": "execute_result"
    }
   ],
   "source": [
    "fits['alpha_population'] = [fit_population_alpha(exp) for exp in experiments]\n",
    "fits['beta_population']  = [fit_population_beta(exp) for exp in experiments]\n",
    "fits"
   ]
  },
  {
   "cell_type": "markdown",
   "metadata": {},
   "source": [
    "# Single Cell fits"
   ]
  },
  {
   "cell_type": "markdown",
   "metadata": {},
   "source": [
    "## Non-bayesian point estimates"
   ]
  },
  {
   "cell_type": "code",
   "execution_count": 173,
   "metadata": {},
   "outputs": [],
   "source": [
    "def get_jumps(t,m,r):\n",
    "    \"\"\"\n",
    "    get information about jump times (times when the number of cells changes)\n",
    "\n",
    "    Input:\n",
    "        t      -  the list of times\n",
    "        m      -  number of modified cells\n",
    "        r      -  number of repaired cells\n",
    "\n",
    "    Output:\n",
    "        T   - the total \"cell-cycle time\" until the appearence of first gfp cell\n",
    "        jump_times\n",
    "\n",
    "    \"\"\"\n",
    "    ind_gfp = np.argmax(r>0)\n",
    "    k = 1\n",
    "    i_gfp =0 # index of gfp in jump_cells\n",
    "    jump_times = []\n",
    "    jump_cells = []\n",
    "    while k< len(m):\n",
    "        dm = m[k]-m[k-1]\n",
    "        if dm>0:\n",
    "            jump_times.append(t[k])\n",
    "            jump_cells.append(m[k])\n",
    "            if k <= ind_gfp:\n",
    "                i_gfp+=1\n",
    "        k+=1\n",
    "\n",
    "    jump_times.append(t[-1])\n",
    "    jump_times = np.array(jump_times)\n",
    "    jump_cells = np.array(jump_cells)\n",
    "    taus = jump_times[1:]-jump_times[:-1]\n",
    "    if i_gfp>0:\n",
    "        T = np.sum(jump_cells[:i_gfp]*taus[:i_gfp])\n",
    "    else:\n",
    "        T = 0.\n",
    "    return T,jump_times[:-1],jump_cells[:-1],taus,i_gfp"
   ]
  },
  {
   "cell_type": "code",
   "execution_count": 174,
   "metadata": {},
   "outputs": [],
   "source": [
    "def per_division_break(experiment):\n",
    "    \"\"\"\n",
    "    infer break rate assuming that breaks don't happen during lag\n",
    "    \"\"\"\n",
    "    \n",
    "    if experiment != 'NoGuideRNA':\n",
    "        data_exp = data[data.experiment==experiment]\n",
    "        time = data[data.well == data.well[0]].time.values\n",
    "        wells = data_exp.well.unique()\n",
    "        D = []\n",
    "        Tmax = []\n",
    "        N = 0\n",
    "        for well in wells:\n",
    "            bf = data_exp[data_exp.well==well].bf.values\n",
    "            gfp = data_exp[data_exp.well==well].gfp.values\n",
    "            Ti,jump_times,jump_cells,taus,i_gfp = get_jumps(time,bf,gfp)\n",
    "            Tmaxi = np.dot(jump_cells,taus[:-1])\n",
    "            if i_gfp>0 and Tmaxi>Ti:\n",
    "                D.append((jump_cells[1:]-jump_cells[:-1])[i_gfp-1])\n",
    "                Tmax.append(Tmaxi)\n",
    "                N+=1\n",
    "\n",
    "        return np.mean([1/(1+d) for d in D])*fits[fits.experiment==experiment].alpha_population.values[0]/np.log(2)\n",
    "    else:\n",
    "        return np.nan\n",
    "\n",
    "\n",
    "def constant_break_rate(experiment):\n",
    "    \"\"\"\n",
    "    infer break rate assuming that breaks don't happen during lag\n",
    "    \"\"\"\n",
    "\n",
    "\n",
    "    if experiment != 'NoGuideRNA':\n",
    "        data_exp = data[data.experiment==experiment]\n",
    "        time = data[data.well == data.well[0]].time.values\n",
    "        wells = data_exp.well.unique()\n",
    "        D = []\n",
    "        Tmax = []\n",
    "        T = []\n",
    "        N = 0\n",
    "        for well in wells:\n",
    "            bf = data_exp[data_exp.well==well].bf.values\n",
    "            gfp = data_exp[data_exp.well==well].gfp.values\n",
    "            Ti,jump_times,jump_cells,taus,i_gfp = get_jumps(time,bf,gfp)\n",
    "            Tmaxi = np.dot(jump_cells,taus[:-1])\n",
    "            if i_gfp>0 and Tmaxi>Ti:\n",
    "                T.append(Ti)\n",
    "                Tmax.append(Tmaxi)\n",
    "                N+=1\n",
    "\n",
    "\n",
    "        return np.mean(1/np.array(T))\n",
    "    else:\n",
    "        return np.nan"
   ]
  },
  {
   "cell_type": "code",
   "execution_count": 175,
   "metadata": {},
   "outputs": [
    {
     "name": "stderr",
     "output_type": "stream",
     "text": [
      "/Users/E/anaconda3/lib/python3.7/site-packages/ipykernel_launcher.py:23: RuntimeWarning: divide by zero encountered in long_scalars\n"
     ]
    }
   ],
   "source": [
    "fits['beta_pdb']= [per_division_break(exp) for exp in experiments]\n",
    "fits['beta_cbr']= [constant_break_rate(exp) for exp in experiments]"
   ]
  },
  {
   "cell_type": "code",
   "execution_count": 176,
   "metadata": {},
   "outputs": [
    {
     "data": {
      "text/plain": [
       "[<matplotlib.lines.Line2D at 0x7fd3db2da8d0>]"
      ]
     },
     "execution_count": 176,
     "metadata": {},
     "output_type": "execute_result"
    },
    {
     "data": {
      "image/png": "[encoded data removed]",
      "text/plain": [
       "<Figure size 432x288 with 1 Axes>"
      ]
     },
     "metadata": {
      "needs_background": "light"
     },
     "output_type": "display_data"
    }
   ],
   "source": [
    "plt.plot(fits.beta_cbr,fits.beta_population,'o')"
   ]
  },
  {
   "cell_type": "code",
   "execution_count": 179,
   "metadata": {},
   "outputs": [],
   "source": [
    "fits.to_csv('./output/fits_summary.csv')"
   ]
  },
  {
   "cell_type": "code",
   "execution_count": 218,
   "metadata": {},
   "outputs": [
    {
     "data": {
      "text/plain": [
       "(0.0, 0.0035)"
      ]
     },
     "execution_count": 218,
     "metadata": {},
     "output_type": "execute_result"
    },
    {
     "data": {
      "image/png": "[encoded data removed]",
      "text/plain": [
       "<Figure size 360x360 with 1 Axes>"
      ]
     },
     "metadata": {
      "needs_background": "light"
     },
     "output_type": "display_data"
    }
   ],
   "source": [
    "markers = ['o','^','s','-','*','+']\n",
    "colors = ['C0','C1','C2','C3','C4','C5']\n",
    "fig,ax = plt.subplots(figsize=(5,5),sharex=True,sharey=True)\n",
    "for defect in fits.defect.unique():\n",
    "    for nuclease in fits.nuclease.unique():\n",
    "        marker = markers[list(fits.nuclease.unique()).index(nuclease)]\n",
    "        color = colors[list(fits.defect.unique()).index(defect)]\n",
    "        df = fits[fits.defect==defect]\n",
    "        df = df[df.nuclease==nuclease]\n",
    "        ax.plot(df.beta_population,df.beta_cbr,marker,color=color,markersize=10)\n",
    "rang = np.linspace(0,1,2)\n",
    "ax.plot(rang,rang,'k--')\n",
    "ax.set_ylim([0.,0.0035])\n",
    "ax.set_xlim([0.,0.0035])"
   ]
  },
  {
   "cell_type": "code",
   "execution_count": 219,
   "metadata": {},
   "outputs": [
    {
     "data": {
      "text/html": [
       "<div>\n",
       "<style scoped>\n",
       "    .dataframe tbody tr th:only-of-type {\n",
       "        vertical-align: middle;\n",
       "    }\n",
       "\n",
       "    .dataframe tbody tr th {\n",
       "        vertical-align: top;\n",
       "    }\n",
       "\n",
       "    .dataframe thead th {\n",
       "        text-align: right;\n",
       "    }\n",
       "</style>\n",
       "<table border=\"1\" class=\"dataframe\">\n",
       "  <thead>\n",
       "    <tr style=\"text-align: right;\">\n",
       "      <th></th>\n",
       "      <th>experiment</th>\n",
       "      <th>defect</th>\n",
       "      <th>nuclease</th>\n",
       "      <th>alpha_population</th>\n",
       "      <th>beta_population</th>\n",
       "      <th>beta_pdb</th>\n",
       "      <th>beta_cbr</th>\n",
       "    </tr>\n",
       "  </thead>\n",
       "  <tbody>\n",
       "    <tr>\n",
       "      <th>0</th>\n",
       "      <td>NR-SpCas9</td>\n",
       "      <td>NR</td>\n",
       "      <td>SpCas9</td>\n",
       "      <td>0.003853</td>\n",
       "      <td>0.001968</td>\n",
       "      <td>inf</td>\n",
       "      <td>0.000883</td>\n",
       "    </tr>\n",
       "    <tr>\n",
       "      <th>1</th>\n",
       "      <td>CTG-Cpf1</td>\n",
       "      <td>CTG</td>\n",
       "      <td>Cpf1</td>\n",
       "      <td>0.003870</td>\n",
       "      <td>0.000103</td>\n",
       "      <td>0.001168</td>\n",
       "      <td>0.000140</td>\n",
       "    </tr>\n",
       "    <tr>\n",
       "      <th>2</th>\n",
       "      <td>CGG-Cpf1</td>\n",
       "      <td>CGG</td>\n",
       "      <td>Cpf1</td>\n",
       "      <td>0.003575</td>\n",
       "      <td>0.000011</td>\n",
       "      <td>0.001129</td>\n",
       "      <td>0.000132</td>\n",
       "    </tr>\n",
       "    <tr>\n",
       "      <th>3</th>\n",
       "      <td>NoGuideRNA</td>\n",
       "      <td>none</td>\n",
       "      <td>none</td>\n",
       "      <td>0.004020</td>\n",
       "      <td>NaN</td>\n",
       "      <td>NaN</td>\n",
       "      <td>NaN</td>\n",
       "    </tr>\n",
       "    <tr>\n",
       "      <th>4</th>\n",
       "      <td>CTG-SpCas9-1</td>\n",
       "      <td>CTG</td>\n",
       "      <td>SpCas9</td>\n",
       "      <td>0.003022</td>\n",
       "      <td>0.001116</td>\n",
       "      <td>0.001879</td>\n",
       "      <td>0.000704</td>\n",
       "    </tr>\n",
       "    <tr>\n",
       "      <th>5</th>\n",
       "      <td>GAA - Cpf1</td>\n",
       "      <td>GAA</td>\n",
       "      <td>Cpf1</td>\n",
       "      <td>0.003784</td>\n",
       "      <td>0.001377</td>\n",
       "      <td>inf</td>\n",
       "      <td>0.001113</td>\n",
       "    </tr>\n",
       "    <tr>\n",
       "      <th>6</th>\n",
       "      <td>CTG-SpCas9-2</td>\n",
       "      <td>CTG</td>\n",
       "      <td>SpCas9</td>\n",
       "      <td>0.002333</td>\n",
       "      <td>0.000882</td>\n",
       "      <td>inf</td>\n",
       "      <td>0.000822</td>\n",
       "    </tr>\n",
       "    <tr>\n",
       "      <th>7</th>\n",
       "      <td>NR-Cpf1-1</td>\n",
       "      <td>NR</td>\n",
       "      <td>Cpf1</td>\n",
       "      <td>0.004093</td>\n",
       "      <td>0.002821</td>\n",
       "      <td>0.002649</td>\n",
       "      <td>0.002697</td>\n",
       "    </tr>\n",
       "    <tr>\n",
       "      <th>8</th>\n",
       "      <td>CGG-SpCas9</td>\n",
       "      <td>CGG</td>\n",
       "      <td>SpCas9</td>\n",
       "      <td>0.003871</td>\n",
       "      <td>0.002027</td>\n",
       "      <td>inf</td>\n",
       "      <td>0.001638</td>\n",
       "    </tr>\n",
       "    <tr>\n",
       "      <th>9</th>\n",
       "      <td>NR-Cpf1-2</td>\n",
       "      <td>NR</td>\n",
       "      <td>Cpf1</td>\n",
       "      <td>0.004097</td>\n",
       "      <td>0.002383</td>\n",
       "      <td>0.002627</td>\n",
       "      <td>0.002339</td>\n",
       "    </tr>\n",
       "    <tr>\n",
       "      <th>10</th>\n",
       "      <td>GAA-SpCas9-1</td>\n",
       "      <td>GAA</td>\n",
       "      <td>SpCas9</td>\n",
       "      <td>0.001980</td>\n",
       "      <td>0.000185</td>\n",
       "      <td>0.001289</td>\n",
       "      <td>0.001311</td>\n",
       "    </tr>\n",
       "    <tr>\n",
       "      <th>11</th>\n",
       "      <td>GAA-SpCas9-2</td>\n",
       "      <td>GAA</td>\n",
       "      <td>SpCas9</td>\n",
       "      <td>0.001784</td>\n",
       "      <td>0.000403</td>\n",
       "      <td>0.001209</td>\n",
       "      <td>0.001171</td>\n",
       "    </tr>\n",
       "  </tbody>\n",
       "</table>\n",
       "</div>"
      ],
      "text/plain": [
       "      experiment defect nuclease  alpha_population  beta_population  beta_pdb  \\\n",
       "0      NR-SpCas9     NR   SpCas9          0.003853         0.001968       inf   \n",
       "1       CTG-Cpf1    CTG     Cpf1          0.003870         0.000103  0.001168   \n",
       "2       CGG-Cpf1    CGG     Cpf1          0.003575         0.000011  0.001129   \n",
       "3     NoGuideRNA   none     none          0.004020              NaN       NaN   \n",
       "4   CTG-SpCas9-1    CTG   SpCas9          0.003022         0.001116  0.001879   \n",
       "5     GAA - Cpf1   GAA      Cpf1          0.003784         0.001377       inf   \n",
       "6   CTG-SpCas9-2    CTG   SpCas9          0.002333         0.000882       inf   \n",
       "7      NR-Cpf1-1     NR     Cpf1          0.004093         0.002821  0.002649   \n",
       "8     CGG-SpCas9    CGG   SpCas9          0.003871         0.002027       inf   \n",
       "9      NR-Cpf1-2     NR     Cpf1          0.004097         0.002383  0.002627   \n",
       "10  GAA-SpCas9-1    GAA   SpCas9          0.001980         0.000185  0.001289   \n",
       "11  GAA-SpCas9-2    GAA   SpCas9          0.001784         0.000403  0.001209   \n",
       "\n",
       "    beta_cbr  \n",
       "0   0.000883  \n",
       "1   0.000140  \n",
       "2   0.000132  \n",
       "3        NaN  \n",
       "4   0.000704  \n",
       "5   0.001113  \n",
       "6   0.000822  \n",
       "7   0.002697  \n",
       "8   0.001638  \n",
       "9   0.002339  \n",
       "10  0.001311  \n",
       "11  0.001171  "
      ]
     },
     "execution_count": 219,
     "metadata": {},
     "output_type": "execute_result"
    }
   ],
   "source": [
    "fits"
   ]
  },
  {
   "cell_type": "code",
   "execution_count": 209,
   "metadata": {},
   "outputs": [
    {
     "data": {
      "text/plain": [
       "array(['SpCas9', 'Cpf1', 'none', ' Cpf1'], dtype=object)"
      ]
     },
     "execution_count": 209,
     "metadata": {},
     "output_type": "execute_result"
    }
   ],
   "source": [
    "fits.nuclease.unique()"
   ]
  },
  {
   "cell_type": "code",
   "execution_count": null,
   "metadata": {},
   "outputs": [],
   "source": []
  }
 ],
 "metadata": {
  "kernelspec": {
   "display_name": "Python 3",
   "language": "python",
   "name": "python3"
  },
  "language_info": {
   "codemirror_mode": {
    "name": "ipython",
    "version": 3
   },
   "file_extension": ".py",
   "mimetype": "text/x-python",
   "name": "python",
   "nbconvert_exporter": "python",
   "pygments_lexer": "ipython3",
   "version": "3.7.3"
  }
 },
 "nbformat": 4,
 "nbformat_minor": 2
}
