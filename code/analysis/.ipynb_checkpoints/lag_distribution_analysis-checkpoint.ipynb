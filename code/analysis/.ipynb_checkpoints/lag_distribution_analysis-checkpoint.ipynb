{
 "cells": [
  {
   "cell_type": "markdown",
   "metadata": {},
   "source": [
    "\n",
    "# Setup\n",
    "\n",
    "## Load packages"
   ]
  },
  {
   "cell_type": "code",
   "execution_count": 1,
   "metadata": {},
   "outputs": [],
   "source": [
    "import pandas as pd\n",
    "import numpy as np\n",
    "import matplotlib.pyplot as plt\n",
    "from scipy import stats\n",
    "from  tqdm import  tqdm\n",
    "from scipy.special import binom\n",
    "import itertools\n",
    "import helpers as hp\n",
    "import simulations as sims\n",
    "import importlib\n",
    "importlib.reload(sims)\n",
    "\n",
    "plt.style.use('ggplot')\n",
    "\n",
    "FIG_PATH = \"./../../figures/\""
   ]
  },
  {
   "cell_type": "markdown",
   "metadata": {},
   "source": [
    "## Load processed data"
   ]
  },
  {
   "cell_type": "code",
   "execution_count": 19,
   "metadata": {},
   "outputs": [
    {
     "data": {
      "text/plain": [
       "array(['NR-SpCas9', 'CTG-Cpf1', 'CGG-Cpf1', 'NoGuideRNA',\n",
       "       'GAA-SpCas9-comb', 'GAA - Cpf1', 'CTG-SpCas9-comb', 'CGG-SpCas9',\n",
       "       'NR-Cpf1-comb'], dtype=object)"
      ]
     },
     "execution_count": 19,
     "metadata": {},
     "output_type": "execute_result"
    }
   ],
   "source": [
    "data= pd.read_csv('./../../experimental_data/processed_data/single_cell_data.csv')\n",
    "data_avg = pd.read_csv('./../../experimental_data/processed_data/avg_data.csv')\n",
    "data_avg_one_cell = pd.read_csv('./../../experimental_data/processed_data/avg_data_one_cell.csv')\n",
    "fits = pd.read_csv('./output/fits_summary.csv')\n",
    "fits['p'] = fits.beta_population.values/(2*fits.alpha_population.values)\n",
    "experiments = data.experiment.unique()\n",
    "experiments"
   ]
  },
  {
   "cell_type": "code",
   "execution_count": 21,
   "metadata": {},
   "outputs": [],
   "source": [
    "def get_lags(df):\n",
    "    df2 = df[df.initial_cells==1]\n",
    "    df2 = df2[df2.bf>1]\n",
    "    return np.array([np.min(df2[df2.well==well].time) for well in df2.well.unique()])"
   ]
  },
  {
   "cell_type": "code",
   "execution_count": 16,
   "metadata": {},
   "outputs": [],
   "source": [
    "data_one_cell = data[data.initial_cells==1]"
   ]
  },
  {
   "cell_type": "code",
   "execution_count": null,
   "metadata": {},
   "outputs": [
    {
     "name": "stdout",
     "output_type": "stream",
     "text": [
      "NR-SpCas9 \t\tlag =  89213.49577073602\n",
      "CTG-Cpf1 \t\tlag =  81341.75017242077\n",
      "CGG-Cpf1 \t\tlag =  59325.17006802721\n",
      "NoGuideRNA \t\tlag =  21531.51010701546\n"
     ]
    }
   ],
   "source": [
    "fig,axs = plt.subplots(ncols = len(experiments),figsize=(10,2),sharex=True,sharey=\"row\")\n",
    "k = 0\n",
    "for exp in experiments:\n",
    "    ax = axs[k]\n",
    "    \n",
    "    ax.set_title(data_avg[data_avg.experiment== exp].defect.values[0]\\\n",
    "                     +'\\n'+data_avg[data_avg.experiment== exp].nuclease.values[0])\n",
    "    lags = get_lags(data[data.experiment==exp])\n",
    "    ax.hist(lags,10,density=True);\n",
    "    ax.vlines([np.mean(lags)],[0],[0.005],'C1',linestyle='--')\n",
    "    ax.grid(False)\n",
    "    print(exp,\"\\t\\tlag = \",np.var(lags))\n",
    "    k+=1"
   ]
  },
  {
   "cell_type": "code",
   "execution_count": 14,
   "metadata": {},
   "outputs": [
    {
     "data": {
      "text/plain": [
       "40"
      ]
     },
     "execution_count": 14,
     "metadata": {},
     "output_type": "execute_result"
    }
   ],
   "source": []
  },
  {
   "cell_type": "code",
   "execution_count": null,
   "metadata": {},
   "outputs": [],
   "source": []
  }
 ],
 "metadata": {
  "kernelspec": {
   "display_name": "Python 3",
   "language": "python",
   "name": "python3"
  },
  "language_info": {
   "codemirror_mode": {
    "name": "ipython",
    "version": 3
   },
   "file_extension": ".py",
   "mimetype": "text/x-python",
   "name": "python",
   "nbconvert_exporter": "python",
   "pygments_lexer": "ipython3",
   "version": "3.7.3"
  }
 },
 "nbformat": 4,
 "nbformat_minor": 2
}
