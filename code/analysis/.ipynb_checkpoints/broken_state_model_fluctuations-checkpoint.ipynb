{
 "cells": [
  {
   "cell_type": "markdown",
   "metadata": {},
   "source": [
    "\n",
    "# Setup\n",
    "\n",
    "## Load packages"
   ]
  },
  {
   "cell_type": "code",
   "execution_count": 2,
   "metadata": {},
   "outputs": [],
   "source": [
    "import pandas as pd\n",
    "import numpy as np\n",
    "import matplotlib.pyplot as plt\n",
    "from scipy import stats\n",
    "from scipy.special import binom\n",
    "import itertools\n",
    "import helpers as hp\n",
    "import simulations as sims\n",
    "import importlib\n",
    "importlib.reload(sims)\n",
    "\n",
    "plt.style.use('ggplot')\n",
    "\n",
    "FIG_PATH = \"./../../figures/\""
   ]
  },
  {
   "cell_type": "code",
   "execution_count": 51,
   "metadata": {},
   "outputs": [],
   "source": [
    "# copied and pasted from mathematica\n",
    "def M(t,p,q):\n",
    "    return -((2**t*(1 - p)**t*(-1 + 2*p - q))/(1 - 2*p + q))\n",
    "def B(t,p,q):\n",
    "    return (2*p*(1 - q)**t)/(-1 + 2*p - q) + (2**(1 + t)*(1 - p)**t*p)/(1 - 2*p + q)\n",
    "def G(t,p,q):\n",
    "    return (2**t*q)/(1 + q) - (2*p*(1 - q)**t*q)/((-1 + 2*p - q)*(1 + q)) - (2**t*(1 - p)**t*q)/(1 - 2*p + q)\n",
    "def Sigma(t,p,q):\n",
    "    return np.array([[2*p*(1-p)*M(t-1,p,q),2*p*(1-p)*M(t-1,p,q),0],\\\n",
    "                     [2*p*(1-p)*M(t-1,p,q),q*(1-q)*B(t-1,p,q)+2*p*(1-p)*M(t-1,p,q),q*(1-q)*B(t-1,p,q)],\\\n",
    "                    [0,q*(1-q)*B(t-1,p,q),q*(1-q)*B(t-1,p,q)]])\n",
    "def d(p,q):\n",
    "    return np.array([[2*(1-p),0,0],[2*p,1-q,0],[0,q,2]])\n",
    "def L(p,q):\n",
    "    return np.array([[1,1,1],[0,0,1]])\n",
    "\n",
    "def Omega(t,p,q):\n",
    "    Om = Sigma(t,p,q)\n",
    "    for j in range(1,t-1):\n",
    "        dp = np.linalg.matrix_power(d(p,q),t-j)\n",
    "        Om = Om + dp @ Sigma(j,p,q) @ np.transpose(dp)\n",
    "    return Om\n",
    "\n",
    "def Omega_bar(t,p,q):\n",
    "    return L(p,q) @ Omega(t,p,q) @ np.transpose(L(p,q))\n",
    "\n",
    "def varGN_theory(t,p,q):\n",
    "    M = Omega_bar(t,p,q)\n",
    "    return M[1,1]-M[0,1]**2/M[0,0]"
   ]
  },
  {
   "cell_type": "code",
   "execution_count": 46,
   "metadata": {},
   "outputs": [
    {
     "data": {
      "text/plain": [
       "array([[156313.90878385, 126968.04053044],\n",
       "       [126968.04053044, 104221.63290982]])"
      ]
     },
     "execution_count": 46,
     "metadata": {},
     "output_type": "execute_result"
    }
   ],
   "source": [
    "Omega_bar(10,0.2,0.8)"
   ]
  },
  {
   "cell_type": "code",
   "execution_count": 93,
   "metadata": {},
   "outputs": [
    {
     "data": {
      "text/plain": [
       "[<matplotlib.lines.Line2D at 0x7fce31c1d278>]"
      ]
     },
     "execution_count": 93,
     "metadata": {},
     "output_type": "execute_result"
    },
    {
     "data": {
      "image/png": "[encoded data removed]",
      "text/plain": [
       "<Figure size 432x288 with 1 Axes>"
      ]
     },
     "metadata": {},
     "output_type": "display_data"
    }
   ],
   "source": [
    "plt.semilogy([varGN_theory(t,0.02,0.999999) for t in range(40)])\n",
    "plt.plot([varGN_theory(t,0.02,0.10) for t in range(40)])"
   ]
  },
  {
   "cell_type": "code",
   "execution_count": null,
   "metadata": {},
   "outputs": [],
   "source": []
  }
 ],
 "metadata": {
  "kernelspec": {
   "display_name": "Python 3",
   "language": "python",
   "name": "python3"
  },
  "language_info": {
   "codemirror_mode": {
    "name": "ipython",
    "version": 3
   },
   "file_extension": ".py",
   "mimetype": "text/x-python",
   "name": "python",
   "nbconvert_exporter": "python",
   "pygments_lexer": "ipython3",
   "version": "3.7.3"
  }
 },
 "nbformat": 4,
 "nbformat_minor": 2
}
