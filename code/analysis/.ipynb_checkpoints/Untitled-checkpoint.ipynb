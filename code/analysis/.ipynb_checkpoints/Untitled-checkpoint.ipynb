{
 "cells": [
  {
   "cell_type": "code",
   "execution_count": null,
   "id": "2a527fa2-b6c0-4fdf-b6cb-d968096e8b52",
   "metadata": {},
   "outputs": [],
   "source": [
    "using Turing, Distributions, DifferentialEquations, KernelDensity\n",
    "using MCMCChains,CSV,DataFrames,StatsBase\n",
    "#using StatsPlots,,PairPlots,Plots\n",
    "using PyPlot\n",
    "PyPlot.svg(true)\n",
    "using LaTeXStrings\n",
    "include(\"./functions.jl\")"
   ]
  },
  {
   "cell_type": "code",
   "execution_count": null,
   "id": "ec75a704-c873-435f-90e5-3879c9dca294",
   "metadata": {},
   "outputs": [],
   "source": []
  }
 ],
 "metadata": {
  "kernelspec": {
   "display_name": "Julia 1.6.2",
   "language": "julia",
   "name": "julia-1.6"
  },
  "language_info": {
   "file_extension": ".jl",
   "mimetype": "application/julia",
   "name": "julia",
   "version": "1.6.2"
  }
 },
 "nbformat": 4,
 "nbformat_minor": 5
}
