{
 "cells": [
  {
   "cell_type": "code",
   "execution_count": 142,
   "id": "ab11d70e",
   "metadata": {},
   "outputs": [],
   "source": [
    "using DataFrames\n",
    "using CSV\n",
    "using Statistics\n",
    "using PyPlot"
   ]
  },
  {
   "cell_type": "code",
   "execution_count": 186,
   "id": "b08ebe70",
   "metadata": {},
   "outputs": [
    {
     "name": "stdout",
     "output_type": "stream",
     "text": [
      "CGG-Cas9.csv\n",
      "SpCas9\n",
      "CGG-Cpf1.csv\n",
      "Cpf1\n",
      "CTG-Cas9.csv\n",
      "SpCas9\n",
      "CTG-Cpf1.csv\n",
      "Cpf1\n",
      "GAA-Cas9.csv\n",
      "SpCas9\n",
      "GAA-Cpf1.csv\n",
      "Cpf1\n",
      "NR-Cas9.csv\n",
      "SpCas9\n",
      "NR-Cpf1.csv\n",
      "Cpf1\n"
     ]
    }
   ],
   "source": [
    "dfs = []\n",
    "for (root, dirs, files) in walkdir(\"./../../experimental_data/raw_data/Datasets-2021-csv\")\n",
    "    for f in files\n",
    "        if f[end-2:end] == \"csv\"\n",
    "            println(f)\n",
    "            path = pwd()*\"/../../experimental_data/raw_data/Datasets-2021-csv/\"*f\n",
    "            df = CSV.read(path, DataFrame,header=[:well,:bf,:gfp,:time])\n",
    "            defect = split(split(f,\".\")[1],\"-\")[1]\n",
    "            nuclease = split(split(f,\".\")[1],\"-\")[2]\n",
    "            nuclease = nuclease == \"Cas9\" ? \"SpCas9\" : nuclease\n",
    "            df[:,\"experiment\"] = fill(defect*\"_\"*nuclease,length(df[:,:time]))\n",
    "            df[:,\"defect\"] = fill(defect,length(df[:,:time]))\n",
    "            df[:,\"nuclease\"] = fill(nuclease,length(df[:,:time]))\n",
    "            println(nuclease)\n",
    "            push!(dfs,df)\n",
    "        end\n",
    "    end\n",
    "end"
   ]
  },
  {
   "cell_type": "code",
   "execution_count": 187,
   "id": "85dbc7e1",
   "metadata": {},
   "outputs": [
    {
     "data": {
      "text/plain": [
       "\"/Users/E/Dropbox/RESEARCH/inprogress/yeast_repair/yeast_dna_repair/code/data_processing/../../experimental_data/processed_data/all_experiments.csv\""
      ]
     },
     "execution_count": 187,
     "metadata": {},
     "output_type": "execute_result"
    }
   ],
   "source": [
    "data = vcat(dfs...)\n",
    "CSV.write(pwd()*\"/../../experimental_data/processed_data/all_experiments.csv\",data)"
   ]
  },
  {
   "cell_type": "code",
   "execution_count": 188,
   "id": "d8c390c3",
   "metadata": {},
   "outputs": [],
   "source": [
    "gdf = groupby(data, [:experiment,:time]);"
   ]
  },
  {
   "cell_type": "code",
   "execution_count": 189,
   "id": "b0eb7e73",
   "metadata": {},
   "outputs": [
    {
     "data": {
      "text/plain": [
       "\"/Users/E/Dropbox/RESEARCH/inprogress/yeast_repair/yeast_dna_repair/code/data_processing/../../experimental_data/processed_data/avg_data.csv\""
      ]
     },
     "execution_count": 189,
     "metadata": {},
     "output_type": "execute_result"
    }
   ],
   "source": [
    "data_avg =  combine(gdf,:bf => mean,:gfp => mean, :defect => first,:nuclease => first,renamecols=false)\n",
    "CSV.write(pwd()*\"/../../experimental_data/processed_data/avg_data.csv\",data_avg)"
   ]
  },
  {
   "cell_type": "code",
   "execution_count": 165,
   "id": "74f28dc8",
   "metadata": {},
   "outputs": [
    {
     "data": {
      "image/png": "[encoded data removed]",
      "text/plain": [
       "Figure(PyObject <Figure size 640x480 with 1 Axes>)"
      ]
     },
     "metadata": {},
     "output_type": "display_data"
    },
    {
     "data": {
      "text/plain": [
       "1-element Array{PyCall.PyObject,1}:\n",
       " PyObject <matplotlib.lines.Line2D object at 0x7f81432bd320>"
      ]
     },
     "execution_count": 165,
     "metadata": {},
     "output_type": "execute_result"
    }
   ],
   "source": [
    "plt.plot(data_avg[data_avg.experiment .== \"CGG_SpCas9\",:time],data_avg[data_avg.experiment .== \"CGG_SpCas9\",:bf])\n",
    "plt.semilogy(data_avg[data_avg.experiment .== \"CGG_SpCas9\",:time],data_avg[data_avg.experiment .== \"CGG_SpCas9\",:gfp])"
   ]
  },
  {
   "cell_type": "code",
   "execution_count": 163,
   "id": "710c21fe",
   "metadata": {},
   "outputs": [
    {
     "data": {
      "text/html": [
       "<table class=\"data-frame\"><thead><tr><th></th><th>experiment</th><th>time</th><th>bf</th><th>gfp</th><th>defect</th><th>nuclease</th></tr><tr><th></th><th>String</th><th>Int64</th><th>Float64</th><th>Float64</th><th>String</th><th>String</th></tr></thead><tbody><p>582 rows × 6 columns</p><tr><th>1</th><td>CGG_SpCas9</td><td>0</td><td>1.0</td><td>0.03125</td><td>CGG</td><td>SpCas9</td></tr><tr><th>2</th><td>CGG_SpCas9</td><td>20</td><td>1.01562</td><td>0.03125</td><td>CGG</td><td>SpCas9</td></tr><tr><th>3</th><td>CGG_SpCas9</td><td>40</td><td>1.03125</td><td>0.03125</td><td>CGG</td><td>SpCas9</td></tr><tr><th>4</th><td>CGG_SpCas9</td><td>60</td><td>1.03125</td><td>0.03125</td><td>CGG</td><td>SpCas9</td></tr><tr><th>5</th><td>CGG_SpCas9</td><td>80</td><td>1.0625</td><td>0.03125</td><td>CGG</td><td>SpCas9</td></tr><tr><th>6</th><td>CGG_SpCas9</td><td>100</td><td>1.07812</td><td>0.046875</td><td>CGG</td><td>SpCas9</td></tr><tr><th>7</th><td>CGG_SpCas9</td><td>120</td><td>1.07812</td><td>0.046875</td><td>CGG</td><td>SpCas9</td></tr><tr><th>8</th><td>CGG_SpCas9</td><td>140</td><td>1.125</td><td>0.046875</td><td>CGG</td><td>SpCas9</td></tr><tr><th>9</th><td>CGG_SpCas9</td><td>160</td><td>1.10938</td><td>0.046875</td><td>CGG</td><td>SpCas9</td></tr><tr><th>10</th><td>CGG_SpCas9</td><td>180</td><td>1.15625</td><td>0.046875</td><td>CGG</td><td>SpCas9</td></tr><tr><th>11</th><td>CGG_SpCas9</td><td>200</td><td>1.1875</td><td>0.078125</td><td>CGG</td><td>SpCas9</td></tr><tr><th>12</th><td>CGG_SpCas9</td><td>220</td><td>1.20312</td><td>0.109375</td><td>CGG</td><td>SpCas9</td></tr><tr><th>13</th><td>CGG_SpCas9</td><td>240</td><td>1.32812</td><td>0.125</td><td>CGG</td><td>SpCas9</td></tr><tr><th>14</th><td>CGG_SpCas9</td><td>260</td><td>1.42188</td><td>0.125</td><td>CGG</td><td>SpCas9</td></tr><tr><th>15</th><td>CGG_SpCas9</td><td>280</td><td>1.53125</td><td>0.125</td><td>CGG</td><td>SpCas9</td></tr><tr><th>16</th><td>CGG_SpCas9</td><td>300</td><td>1.67188</td><td>0.171875</td><td>CGG</td><td>SpCas9</td></tr><tr><th>17</th><td>CGG_SpCas9</td><td>320</td><td>1.76562</td><td>0.1875</td><td>CGG</td><td>SpCas9</td></tr><tr><th>18</th><td>CGG_SpCas9</td><td>340</td><td>1.89062</td><td>0.21875</td><td>CGG</td><td>SpCas9</td></tr><tr><th>19</th><td>CGG_SpCas9</td><td>360</td><td>2.0</td><td>0.25</td><td>CGG</td><td>SpCas9</td></tr><tr><th>20</th><td>CGG_SpCas9</td><td>380</td><td>2.125</td><td>0.28125</td><td>CGG</td><td>SpCas9</td></tr><tr><th>21</th><td>CGG_SpCas9</td><td>400</td><td>2.28125</td><td>0.390625</td><td>CGG</td><td>SpCas9</td></tr><tr><th>22</th><td>CGG_SpCas9</td><td>420</td><td>2.35938</td><td>0.40625</td><td>CGG</td><td>SpCas9</td></tr><tr><th>23</th><td>CGG_SpCas9</td><td>440</td><td>2.53125</td><td>0.46875</td><td>CGG</td><td>SpCas9</td></tr><tr><th>24</th><td>CGG_SpCas9</td><td>460</td><td>2.70312</td><td>0.53125</td><td>CGG</td><td>SpCas9</td></tr><tr><th>25</th><td>CGG_SpCas9</td><td>480</td><td>2.84375</td><td>0.6875</td><td>CGG</td><td>SpCas9</td></tr><tr><th>26</th><td>CGG_SpCas9</td><td>500</td><td>3.25</td><td>0.78125</td><td>CGG</td><td>SpCas9</td></tr><tr><th>27</th><td>CGG_SpCas9</td><td>520</td><td>3.48438</td><td>0.859375</td><td>CGG</td><td>SpCas9</td></tr><tr><th>28</th><td>CGG_SpCas9</td><td>540</td><td>3.625</td><td>1.01562</td><td>CGG</td><td>SpCas9</td></tr><tr><th>29</th><td>CGG_SpCas9</td><td>560</td><td>3.96875</td><td>1.17188</td><td>CGG</td><td>SpCas9</td></tr><tr><th>30</th><td>CGG_SpCas9</td><td>580</td><td>4.23438</td><td>1.29688</td><td>CGG</td><td>SpCas9</td></tr><tr><th>&vellip;</th><td>&vellip;</td><td>&vellip;</td><td>&vellip;</td><td>&vellip;</td><td>&vellip;</td><td>&vellip;</td></tr></tbody></table>"
      ],
      "text/latex": [
       "\\begin{tabular}{r|cccccc}\n",
       "\t& experiment & time & bf & gfp & defect & nuclease\\\\\n",
       "\t\\hline\n",
       "\t& String & Int64 & Float64 & Float64 & String & String\\\\\n",
       "\t\\hline\n",
       "\t1 & CGG\\_SpCas9 & 0 & 1.0 & 0.03125 & CGG & SpCas9 \\\\\n",
       "\t2 & CGG\\_SpCas9 & 20 & 1.01562 & 0.03125 & CGG & SpCas9 \\\\\n",
       "\t3 & CGG\\_SpCas9 & 40 & 1.03125 & 0.03125 & CGG & SpCas9 \\\\\n",
       "\t4 & CGG\\_SpCas9 & 60 & 1.03125 & 0.03125 & CGG & SpCas9 \\\\\n",
       "\t5 & CGG\\_SpCas9 & 80 & 1.0625 & 0.03125 & CGG & SpCas9 \\\\\n",
       "\t6 & CGG\\_SpCas9 & 100 & 1.07812 & 0.046875 & CGG & SpCas9 \\\\\n",
       "\t7 & CGG\\_SpCas9 & 120 & 1.07812 & 0.046875 & CGG & SpCas9 \\\\\n",
       "\t8 & CGG\\_SpCas9 & 140 & 1.125 & 0.046875 & CGG & SpCas9 \\\\\n",
       "\t9 & CGG\\_SpCas9 & 160 & 1.10938 & 0.046875 & CGG & SpCas9 \\\\\n",
       "\t10 & CGG\\_SpCas9 & 180 & 1.15625 & 0.046875 & CGG & SpCas9 \\\\\n",
       "\t11 & CGG\\_SpCas9 & 200 & 1.1875 & 0.078125 & CGG & SpCas9 \\\\\n",
       "\t12 & CGG\\_SpCas9 & 220 & 1.20312 & 0.109375 & CGG & SpCas9 \\\\\n",
       "\t13 & CGG\\_SpCas9 & 240 & 1.32812 & 0.125 & CGG & SpCas9 \\\\\n",
       "\t14 & CGG\\_SpCas9 & 260 & 1.42188 & 0.125 & CGG & SpCas9 \\\\\n",
       "\t15 & CGG\\_SpCas9 & 280 & 1.53125 & 0.125 & CGG & SpCas9 \\\\\n",
       "\t16 & CGG\\_SpCas9 & 300 & 1.67188 & 0.171875 & CGG & SpCas9 \\\\\n",
       "\t17 & CGG\\_SpCas9 & 320 & 1.76562 & 0.1875 & CGG & SpCas9 \\\\\n",
       "\t18 & CGG\\_SpCas9 & 340 & 1.89062 & 0.21875 & CGG & SpCas9 \\\\\n",
       "\t19 & CGG\\_SpCas9 & 360 & 2.0 & 0.25 & CGG & SpCas9 \\\\\n",
       "\t20 & CGG\\_SpCas9 & 380 & 2.125 & 0.28125 & CGG & SpCas9 \\\\\n",
       "\t21 & CGG\\_SpCas9 & 400 & 2.28125 & 0.390625 & CGG & SpCas9 \\\\\n",
       "\t22 & CGG\\_SpCas9 & 420 & 2.35938 & 0.40625 & CGG & SpCas9 \\\\\n",
       "\t23 & CGG\\_SpCas9 & 440 & 2.53125 & 0.46875 & CGG & SpCas9 \\\\\n",
       "\t24 & CGG\\_SpCas9 & 460 & 2.70312 & 0.53125 & CGG & SpCas9 \\\\\n",
       "\t25 & CGG\\_SpCas9 & 480 & 2.84375 & 0.6875 & CGG & SpCas9 \\\\\n",
       "\t26 & CGG\\_SpCas9 & 500 & 3.25 & 0.78125 & CGG & SpCas9 \\\\\n",
       "\t27 & CGG\\_SpCas9 & 520 & 3.48438 & 0.859375 & CGG & SpCas9 \\\\\n",
       "\t28 & CGG\\_SpCas9 & 540 & 3.625 & 1.01562 & CGG & SpCas9 \\\\\n",
       "\t29 & CGG\\_SpCas9 & 560 & 3.96875 & 1.17188 & CGG & SpCas9 \\\\\n",
       "\t30 & CGG\\_SpCas9 & 580 & 4.23438 & 1.29688 & CGG & SpCas9 \\\\\n",
       "\t$\\dots$ & $\\dots$ & $\\dots$ & $\\dots$ & $\\dots$ & $\\dots$ & $\\dots$ \\\\\n",
       "\\end{tabular}\n"
      ],
      "text/plain": [
       "\u001b[1m582×6 DataFrame\u001b[0m\n",
       "\u001b[1m Row \u001b[0m│\u001b[1m experiment \u001b[0m\u001b[1m time  \u001b[0m\u001b[1m bf        \u001b[0m\u001b[1m gfp       \u001b[0m\u001b[1m defect \u001b[0m\u001b[1m nuclease \u001b[0m\n",
       "\u001b[1m     \u001b[0m│\u001b[90m String     \u001b[0m\u001b[90m Int64 \u001b[0m\u001b[90m Float64   \u001b[0m\u001b[90m Float64   \u001b[0m\u001b[90m String \u001b[0m\u001b[90m String   \u001b[0m\n",
       "─────┼───────────────────────────────────────────────────────────\n",
       "   1 │ CGG_SpCas9      0    1.0       0.03125   CGG     SpCas9\n",
       "   2 │ CGG_SpCas9     20    1.01562   0.03125   CGG     SpCas9\n",
       "   3 │ CGG_SpCas9     40    1.03125   0.03125   CGG     SpCas9\n",
       "   4 │ CGG_SpCas9     60    1.03125   0.03125   CGG     SpCas9\n",
       "   5 │ CGG_SpCas9     80    1.0625    0.03125   CGG     SpCas9\n",
       "   6 │ CGG_SpCas9    100    1.07812   0.046875  CGG     SpCas9\n",
       "   7 │ CGG_SpCas9    120    1.07812   0.046875  CGG     SpCas9\n",
       "   8 │ CGG_SpCas9    140    1.125     0.046875  CGG     SpCas9\n",
       "   9 │ CGG_SpCas9    160    1.10938   0.046875  CGG     SpCas9\n",
       "  10 │ CGG_SpCas9    180    1.15625   0.046875  CGG     SpCas9\n",
       "  11 │ CGG_SpCas9    200    1.1875    0.078125  CGG     SpCas9\n",
       "  ⋮  │     ⋮         ⋮        ⋮          ⋮        ⋮        ⋮\n",
       " 573 │ NR-_pf1.     1260   58.6525   50.9661    NR-     pf1.\n",
       " 574 │ NR-_pf1.     1280   62.7203   54.9661    NR-     pf1.\n",
       " 575 │ NR-_pf1.     1300   66.8305   58.8983    NR-     pf1.\n",
       " 576 │ NR-_pf1.     1320   70.7542   62.9407    NR-     pf1.\n",
       " 577 │ NR-_pf1.     1340   76.0      68.1186    NR-     pf1.\n",
       " 578 │ NR-_pf1.     1360   80.3983   72.3559    NR-     pf1.\n",
       " 579 │ NR-_pf1.     1380   85.1695   77.1525    NR-     pf1.\n",
       " 580 │ NR-_pf1.     1400   90.4407   82.3559    NR-     pf1.\n",
       " 581 │ NR-_pf1.     1420   96.5847   88.322     NR-     pf1.\n",
       " 582 │ NR-_pf1.     1440  102.669    94.6186    NR-     pf1.\n",
       "\u001b[36m                                                 561 rows omitted\u001b[0m"
      ]
     },
     "execution_count": 163,
     "metadata": {},
     "output_type": "execute_result"
    }
   ],
   "source": []
  },
  {
   "cell_type": "code",
   "execution_count": 116,
   "id": "41ee90a4",
   "metadata": {},
   "outputs": [
    {
     "data": {
      "text/plain": [
       "105-element Array{Int64,1}:\n",
       "   1\n",
       "   2\n",
       "   3\n",
       "   4\n",
       "   5\n",
       "   6\n",
       "   7\n",
       "   8\n",
       "   9\n",
       "  10\n",
       "  11\n",
       "  12\n",
       "  13\n",
       "   ⋮\n",
       "  94\n",
       "  95\n",
       "  96\n",
       "  97\n",
       "  98\n",
       "  99\n",
       " 100\n",
       " 101\n",
       " 102\n",
       " 103\n",
       " 104\n",
       " 105"
      ]
     },
     "execution_count": 116,
     "metadata": {},
     "output_type": "execute_result"
    }
   ],
   "source": [
    "df = dfs[2]\n",
    "one_cell_wells = [well for well in unique(df.well) if df[df.well .== well,:bf][1] == 1]"
   ]
  },
  {
   "cell_type": "code",
   "execution_count": 169,
   "id": "a623da1f",
   "metadata": {},
   "outputs": [
    {
     "data": {
      "text/plain": [
       "4-element Array{String,1}:\n",
       " \"SpCas9\"\n",
       " \"Cpf1\"\n",
       " \"as9.\"\n",
       " \"pf1.\""
      ]
     },
     "execution_count": 169,
     "metadata": {},
     "output_type": "execute_result"
    }
   ],
   "source": [
    "unique(data[:,:nuclease])"
   ]
  },
  {
   "cell_type": "code",
   "execution_count": 141,
   "id": "2209ea88",
   "metadata": {},
   "outputs": [
    {
     "data": {
      "text/plain": [
       "24.0"
      ]
     },
     "execution_count": 141,
     "metadata": {},
     "output_type": "execute_result"
    }
   ],
   "source": [
    "max(data[:,:time]...)/60"
   ]
  },
  {
   "cell_type": "code",
   "execution_count": 184,
   "id": "cf627abb",
   "metadata": {},
   "outputs": [
    {
     "data": {
      "text/plain": [
       "2-element Array{SubString{String},1}:\n",
       " \"NR\"\n",
       " \"Cas9\""
      ]
     },
     "execution_count": 184,
     "metadata": {},
     "output_type": "execute_result"
    }
   ],
   "source": []
  },
  {
   "cell_type": "code",
   "execution_count": null,
   "id": "218217b9",
   "metadata": {},
   "outputs": [],
   "source": []
  }
 ],
 "metadata": {
  "kernelspec": {
   "display_name": "Julia 1.5.3",
   "language": "julia",
   "name": "julia-1.5"
  },
  "language_info": {
   "file_extension": ".jl",
   "mimetype": "application/julia",
   "name": "julia",
   "version": "1.5.3"
  }
 },
 "nbformat": 4,
 "nbformat_minor": 5
}
