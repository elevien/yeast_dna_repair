{
 "cells": [
  {
   "cell_type": "markdown",
   "metadata": {},
   "source": [
    "# Data Processing"
   ]
  },
  {
   "cell_type": "markdown",
   "metadata": {},
   "source": [
    "# Setup"
   ]
  },
  {
   "cell_type": "code",
   "execution_count": 12,
   "metadata": {},
   "outputs": [],
   "source": [
    "import random,copy,math,time,os,csv,sys\n",
    "import scipy.io as sio # for loading .mat files\n",
    "import pandas as pd\n",
    "import numpy as np\n",
    "import matplotlib.pyplot as plt"
   ]
  },
  {
   "cell_type": "code",
   "execution_count": 13,
   "metadata": {},
   "outputs": [],
   "source": [
    "DATA_DIRECTORY = './../../experimental_data/raw_data/All-datasets - Oct2020/'"
   ]
  },
  {
   "cell_type": "code",
   "execution_count": 14,
   "metadata": {},
   "outputs": [
    {
     "data": {
      "text/plain": [
       "dict_keys(['__header__', '__version__', '__globals__', 'AllCellsBF', 'AllCellsGFP', 'OneCellBF', 'OneCellGFP', 't'])"
      ]
     },
     "execution_count": 14,
     "metadata": {},
     "output_type": "execute_result"
    }
   ],
   "source": [
    "data_dict = sio.loadmat('./../../experimental_data/raw_data/All-datasets - Oct2020/CGG-SpCas9.mat')\n",
    "data_dict.keys()"
   ]
  },
  {
   "cell_type": "markdown",
   "metadata": {},
   "source": [
    "## Load raw data"
   ]
  },
  {
   "cell_type": "code",
   "execution_count": 15,
   "metadata": {},
   "outputs": [
    {
     "name": "stdout",
     "output_type": "stream",
     "text": [
      "NR-SpCas9\n",
      "  success!\n",
      "CTG-Cpf1\n",
      "  success!\n",
      "CGG-Cpf1\n",
      "  success!\n",
      "NoGuideRNA\n",
      "  success!\n",
      "GAA-SpCas9-comb\n",
      "  success!\n",
      "GAA - Cpf1\n",
      "  success!\n",
      "CTG-SpCas9-comb\n",
      "  success!\n",
      "CGG-SpCas9\n",
      "  success!\n",
      "NR-Cpf1-comb\n",
      "  success!\n"
     ]
    }
   ],
   "source": [
    "data_raw = []\n",
    "for filename in os.listdir(DATA_DIRECTORY):\n",
    "        if filename.endswith(\".mat\"):\n",
    "            experiment = filename[:-4]\n",
    "            print(experiment)\n",
    "            data_dict = sio.loadmat(DATA_DIRECTORY +filename)\n",
    "            if 't' in data_dict:\n",
    "                data_dict[\"experiment\"] = experiment\n",
    "                if experiment == 'NoGuidedRNA':\n",
    "                    data_dict[\"experiment\"] = 'Control'\n",
    "                if '-' in experiment:\n",
    "                    defect = experiment.split('-')[0]\n",
    "                    if defect in 'NonRepeatedSequence':\n",
    "                        data_dict['defect'] = 'NRS'\n",
    "                    else:\n",
    "                        data_dict['defect'] = experiment.split('-')[0]\n",
    "                    data_dict['nuclease'] = experiment.split('-')[1]\n",
    "\n",
    "    \n",
    "                if 'AllCells' in data_dict:\n",
    "                    data_dict['AllCellsBF'] = data_dict['AllCells']\n",
    "                    #data_dict['t'] = np.array(range(len(data_dict['AllCells'])))\n",
    "                #else:\n",
    "                    #data_dict['t'] = np.array(range(len(data_dict['AllCellsBF'])))\n",
    "                if 'AllGFPCells' in data_dict:\n",
    "                    data_dict['AllCellsGFP'] = data_dict['AllGFPCells']\n",
    "                data_raw.append(data_dict)\n",
    "                print('  success!')\n",
    "            else:\n",
    "                print('  missing data!')\n"
   ]
  },
  {
   "cell_type": "code",
   "execution_count": 138,
   "metadata": {},
   "outputs": [],
   "source": [
    "def make_single_cell_dataframe(dct):\n",
    "    '''\n",
    "    convert the dictionary of raw data to a data frame\n",
    "    '''\n",
    "    data = pd.DataFrame() # dataframe for single-cell data\n",
    "    \n",
    "    \n",
    "    n_wells = len(dct['AllCellsBF'][0])\n",
    "    n_points = len(dct['t'][0])\n",
    "    data['well'] = np.concatenate([np.ones(n_points)*j for j in range(n_wells)])\n",
    "    data['bf'] = dct['AllCellsBF'].T.reshape(n_wells*n_points)\n",
    "    \n",
    "    if 'AllCellsGFP' in dct:\n",
    "        data['gfp'] = dct['AllCellsGFP'].T.reshape(n_wells*n_points)\n",
    "    else: # this means there is no defect\n",
    "        data['gfp'] = np.nan\n",
    "        \n",
    "    data['time'] = np.concatenate([dct['t'][0] for j in range(n_wells)])\n",
    "    data['experiment'] = dct['experiment']\n",
    "    \n",
    "    if 'defect' in dct:\n",
    "        data['defect'] = dct['defect']\n",
    "    else:\n",
    "        data['defect'] = 'none'\n",
    "    if 'nuclease' in dct:\n",
    "        data['nuclease'] = dct['nuclease']\n",
    "    else:\n",
    "        data['nuclease'] = 'none'\n",
    "    return data"
   ]
  },
  {
   "cell_type": "code",
   "execution_count": 139,
   "metadata": {},
   "outputs": [],
   "source": [
    "data = pd.concat([make_single_cell_dataframe(dct) for dct in data_raw])\n",
    "\n",
    "\n",
    "data['initial_cells'] = initial_cells\n",
    "data.to_csv('./../../experimental_data/processed_data/single_cell_data.csv')"
   ]
  },
  {
   "cell_type": "code",
   "execution_count": 140,
   "metadata": {},
   "outputs": [],
   "source": [
    "\n",
    "data_avg =data.groupby(['experiment','time','nuclease','defect']).mean()\n",
    "data_avg.to_csv('./../../experimental_data/processed_data/avg_data.csv')\n",
    "\n",
    "\n",
    "data_avg =data[data.initial_cells==1].groupby(['experiment','time','nuclease','defect']).mean()\n",
    "data_avg.to_csv('./../../experimental_data/processed_data/avg_data_one_cell.csv')"
   ]
  },
  {
   "cell_type": "code",
   "execution_count": 141,
   "metadata": {},
   "outputs": [
    {
     "data": {
      "image/png": "[encoded data removed]",
      "text/plain": [
       "<Figure size 432x288 with 1 Axes>"
      ]
     },
     "metadata": {
      "needs_background": "light"
     },
     "output_type": "display_data"
    }
   ],
   "source": [
    "[plt.plot(data.groupby(['experiment','time']).mean().bf[exp].values,'C0-') \\\n",
    " for exp in data.experiment.unique()];\n",
    "[plt.semilogy(data.groupby(['experiment','time']).mean().gfp[exp].values,'C1--') \\\n",
    "for exp in data.experiment.unique()];"
   ]
  },
  {
   "cell_type": "code",
   "execution_count": 84,
   "metadata": {},
   "outputs": [
    {
     "data": {
      "text/html": [
       "<div>\n",
       "<style scoped>\n",
       "    .dataframe tbody tr th:only-of-type {\n",
       "        vertical-align: middle;\n",
       "    }\n",
       "\n",
       "    .dataframe tbody tr th {\n",
       "        vertical-align: top;\n",
       "    }\n",
       "\n",
       "    .dataframe thead th {\n",
       "        text-align: right;\n",
       "    }\n",
       "</style>\n",
       "<table border=\"1\" class=\"dataframe\">\n",
       "  <thead>\n",
       "    <tr style=\"text-align: right;\">\n",
       "      <th></th>\n",
       "      <th></th>\n",
       "      <th>well</th>\n",
       "      <th>bf</th>\n",
       "      <th>gfp</th>\n",
       "    </tr>\n",
       "    <tr>\n",
       "      <th>experiment</th>\n",
       "      <th>time</th>\n",
       "      <th></th>\n",
       "      <th></th>\n",
       "      <th></th>\n",
       "    </tr>\n",
       "  </thead>\n",
       "  <tbody>\n",
       "    <tr>\n",
       "      <th rowspan=\"5\" valign=\"top\">CGG-Cpf1</th>\n",
       "      <th>0</th>\n",
       "      <td>73.0</td>\n",
       "      <td>1.312925</td>\n",
       "      <td>0.0</td>\n",
       "    </tr>\n",
       "    <tr>\n",
       "      <th>20</th>\n",
       "      <td>73.0</td>\n",
       "      <td>1.312925</td>\n",
       "      <td>0.0</td>\n",
       "    </tr>\n",
       "    <tr>\n",
       "      <th>40</th>\n",
       "      <td>73.0</td>\n",
       "      <td>1.312925</td>\n",
       "      <td>0.0</td>\n",
       "    </tr>\n",
       "    <tr>\n",
       "      <th>60</th>\n",
       "      <td>73.0</td>\n",
       "      <td>1.312925</td>\n",
       "      <td>0.0</td>\n",
       "    </tr>\n",
       "    <tr>\n",
       "      <th>80</th>\n",
       "      <td>73.0</td>\n",
       "      <td>1.326531</td>\n",
       "      <td>0.0</td>\n",
       "    </tr>\n",
       "    <tr>\n",
       "      <th>...</th>\n",
       "      <th>...</th>\n",
       "      <td>...</td>\n",
       "      <td>...</td>\n",
       "      <td>...</td>\n",
       "    </tr>\n",
       "    <tr>\n",
       "      <th rowspan=\"5\" valign=\"top\">NoGuideRNA</th>\n",
       "      <th>800</th>\n",
       "      <td>23.0</td>\n",
       "      <td>13.382979</td>\n",
       "      <td>NaN</td>\n",
       "    </tr>\n",
       "    <tr>\n",
       "      <th>820</th>\n",
       "      <td>23.0</td>\n",
       "      <td>14.574468</td>\n",
       "      <td>NaN</td>\n",
       "    </tr>\n",
       "    <tr>\n",
       "      <th>840</th>\n",
       "      <td>23.0</td>\n",
       "      <td>16.340426</td>\n",
       "      <td>NaN</td>\n",
       "    </tr>\n",
       "    <tr>\n",
       "      <th>860</th>\n",
       "      <td>23.0</td>\n",
       "      <td>17.702128</td>\n",
       "      <td>NaN</td>\n",
       "    </tr>\n",
       "    <tr>\n",
       "      <th>880</th>\n",
       "      <td>23.0</td>\n",
       "      <td>19.255319</td>\n",
       "      <td>NaN</td>\n",
       "    </tr>\n",
       "  </tbody>\n",
       "</table>\n",
       "<p>627 rows × 3 columns</p>\n",
       "</div>"
      ],
      "text/plain": [
       "                 well         bf  gfp\n",
       "experiment time                      \n",
       "CGG-Cpf1   0     73.0   1.312925  0.0\n",
       "           20    73.0   1.312925  0.0\n",
       "           40    73.0   1.312925  0.0\n",
       "           60    73.0   1.312925  0.0\n",
       "           80    73.0   1.326531  0.0\n",
       "...               ...        ...  ...\n",
       "NoGuideRNA 800   23.0  13.382979  NaN\n",
       "           820   23.0  14.574468  NaN\n",
       "           840   23.0  16.340426  NaN\n",
       "           860   23.0  17.702128  NaN\n",
       "           880   23.0  19.255319  NaN\n",
       "\n",
       "[627 rows x 3 columns]"
      ]
     },
     "execution_count": 84,
     "metadata": {},
     "output_type": "execute_result"
    }
   ],
   "source": [
    "data.groupby(['experiment','time']).mean()"
   ]
  },
  {
   "cell_type": "code",
   "execution_count": 124,
   "metadata": {},
   "outputs": [],
   "source": [
    "initial_cells =[]\n",
    "for exp in data.experiment.unique():\n",
    "    df = data[data.experiment == exp]\n",
    "    initial_cells.append(np.array([df[df.well==well].bf.values[0] for well in df.well.values]))\n",
    "initial_cells= np.concatenate(initial_cells)"
   ]
  },
  {
   "cell_type": "code",
   "execution_count": 158,
   "metadata": {},
   "outputs": [
    {
     "data": {
      "text/plain": [
       "[<matplotlib.lines.Line2D at 0x7ff12cc62128>]"
      ]
     },
     "execution_count": 158,
     "metadata": {},
     "output_type": "execute_result"
    },
    {
     "data": {
      "image/png": "[encoded data removed]",
      "text/plain": [
       "<Figure size 432x288 with 1 Axes>"
      ]
     },
     "metadata": {
      "needs_background": "light"
     },
     "output_type": "display_data"
    }
   ],
   "source": [
    "plt.plot([len(data[data.initial_cells==k])/len(data) for k in [1,2,3,4,5,6]],'o-')"
   ]
  },
  {
   "cell_type": "code",
   "execution_count": 135,
   "metadata": {},
   "outputs": [
    {
     "data": {
      "text/html": [
       "<div>\n",
       "<style scoped>\n",
       "    .dataframe tbody tr th:only-of-type {\n",
       "        vertical-align: middle;\n",
       "    }\n",
       "\n",
       "    .dataframe tbody tr th {\n",
       "        vertical-align: top;\n",
       "    }\n",
       "\n",
       "    .dataframe thead th {\n",
       "        text-align: right;\n",
       "    }\n",
       "</style>\n",
       "<table border=\"1\" class=\"dataframe\">\n",
       "  <thead>\n",
       "    <tr style=\"text-align: right;\">\n",
       "      <th></th>\n",
       "      <th>well</th>\n",
       "      <th>bf</th>\n",
       "      <th>gfp</th>\n",
       "      <th>time</th>\n",
       "      <th>experiment</th>\n",
       "      <th>defect</th>\n",
       "      <th>nuclease</th>\n",
       "      <th>initial_cells</th>\n",
       "    </tr>\n",
       "  </thead>\n",
       "  <tbody>\n",
       "    <tr>\n",
       "      <th>0</th>\n",
       "      <td>0.0</td>\n",
       "      <td>1</td>\n",
       "      <td>0.0</td>\n",
       "      <td>0</td>\n",
       "      <td>NR-SpCas9</td>\n",
       "      <td>NR</td>\n",
       "      <td>SpCas9</td>\n",
       "      <td>1</td>\n",
       "    </tr>\n",
       "    <tr>\n",
       "      <th>1</th>\n",
       "      <td>0.0</td>\n",
       "      <td>1</td>\n",
       "      <td>0.0</td>\n",
       "      <td>20</td>\n",
       "      <td>NR-SpCas9</td>\n",
       "      <td>NR</td>\n",
       "      <td>SpCas9</td>\n",
       "      <td>1</td>\n",
       "    </tr>\n",
       "    <tr>\n",
       "      <th>2</th>\n",
       "      <td>0.0</td>\n",
       "      <td>1</td>\n",
       "      <td>0.0</td>\n",
       "      <td>40</td>\n",
       "      <td>NR-SpCas9</td>\n",
       "      <td>NR</td>\n",
       "      <td>SpCas9</td>\n",
       "      <td>1</td>\n",
       "    </tr>\n",
       "    <tr>\n",
       "      <th>3</th>\n",
       "      <td>0.0</td>\n",
       "      <td>1</td>\n",
       "      <td>0.0</td>\n",
       "      <td>60</td>\n",
       "      <td>NR-SpCas9</td>\n",
       "      <td>NR</td>\n",
       "      <td>SpCas9</td>\n",
       "      <td>1</td>\n",
       "    </tr>\n",
       "    <tr>\n",
       "      <th>4</th>\n",
       "      <td>0.0</td>\n",
       "      <td>1</td>\n",
       "      <td>0.0</td>\n",
       "      <td>80</td>\n",
       "      <td>NR-SpCas9</td>\n",
       "      <td>NR</td>\n",
       "      <td>SpCas9</td>\n",
       "      <td>1</td>\n",
       "    </tr>\n",
       "    <tr>\n",
       "      <th>...</th>\n",
       "      <td>...</td>\n",
       "      <td>...</td>\n",
       "      <td>...</td>\n",
       "      <td>...</td>\n",
       "      <td>...</td>\n",
       "      <td>...</td>\n",
       "      <td>...</td>\n",
       "      <td>...</td>\n",
       "    </tr>\n",
       "    <tr>\n",
       "      <th>10799</th>\n",
       "      <td>147.0</td>\n",
       "      <td>26</td>\n",
       "      <td>26.0</td>\n",
       "      <td>1360</td>\n",
       "      <td>NR-Cpf1-comb</td>\n",
       "      <td>NR</td>\n",
       "      <td>Cpf1</td>\n",
       "      <td>2</td>\n",
       "    </tr>\n",
       "    <tr>\n",
       "      <th>10800</th>\n",
       "      <td>147.0</td>\n",
       "      <td>29</td>\n",
       "      <td>29.0</td>\n",
       "      <td>1380</td>\n",
       "      <td>NR-Cpf1-comb</td>\n",
       "      <td>NR</td>\n",
       "      <td>Cpf1</td>\n",
       "      <td>2</td>\n",
       "    </tr>\n",
       "    <tr>\n",
       "      <th>10801</th>\n",
       "      <td>147.0</td>\n",
       "      <td>34</td>\n",
       "      <td>33.0</td>\n",
       "      <td>1400</td>\n",
       "      <td>NR-Cpf1-comb</td>\n",
       "      <td>NR</td>\n",
       "      <td>Cpf1</td>\n",
       "      <td>2</td>\n",
       "    </tr>\n",
       "    <tr>\n",
       "      <th>10802</th>\n",
       "      <td>147.0</td>\n",
       "      <td>36</td>\n",
       "      <td>35.0</td>\n",
       "      <td>1420</td>\n",
       "      <td>NR-Cpf1-comb</td>\n",
       "      <td>NR</td>\n",
       "      <td>Cpf1</td>\n",
       "      <td>2</td>\n",
       "    </tr>\n",
       "    <tr>\n",
       "      <th>10803</th>\n",
       "      <td>147.0</td>\n",
       "      <td>43</td>\n",
       "      <td>43.0</td>\n",
       "      <td>1440</td>\n",
       "      <td>NR-Cpf1-comb</td>\n",
       "      <td>NR</td>\n",
       "      <td>Cpf1</td>\n",
       "      <td>2</td>\n",
       "    </tr>\n",
       "  </tbody>\n",
       "</table>\n",
       "<p>93976 rows × 8 columns</p>\n",
       "</div>"
      ],
      "text/plain": [
       "        well  bf   gfp  time    experiment defect nuclease  initial_cells\n",
       "0        0.0   1   0.0     0     NR-SpCas9     NR   SpCas9              1\n",
       "1        0.0   1   0.0    20     NR-SpCas9     NR   SpCas9              1\n",
       "2        0.0   1   0.0    40     NR-SpCas9     NR   SpCas9              1\n",
       "3        0.0   1   0.0    60     NR-SpCas9     NR   SpCas9              1\n",
       "4        0.0   1   0.0    80     NR-SpCas9     NR   SpCas9              1\n",
       "...      ...  ..   ...   ...           ...    ...      ...            ...\n",
       "10799  147.0  26  26.0  1360  NR-Cpf1-comb     NR     Cpf1              2\n",
       "10800  147.0  29  29.0  1380  NR-Cpf1-comb     NR     Cpf1              2\n",
       "10801  147.0  34  33.0  1400  NR-Cpf1-comb     NR     Cpf1              2\n",
       "10802  147.0  36  35.0  1420  NR-Cpf1-comb     NR     Cpf1              2\n",
       "10803  147.0  43  43.0  1440  NR-Cpf1-comb     NR     Cpf1              2\n",
       "\n",
       "[93976 rows x 8 columns]"
      ]
     },
     "execution_count": 135,
     "metadata": {},
     "output_type": "execute_result"
    }
   ],
   "source": [
    "data"
   ]
  },
  {
   "cell_type": "code",
   "execution_count": null,
   "metadata": {},
   "outputs": [],
   "source": []
  }
 ],
 "metadata": {
  "kernelspec": {
   "display_name": "Python 3",
   "language": "python",
   "name": "python3"
  },
  "language_info": {
   "codemirror_mode": {
    "name": "ipython",
    "version": 3
   },
   "file_extension": ".py",
   "mimetype": "text/x-python",
   "name": "python",
   "nbconvert_exporter": "python",
   "pygments_lexer": "ipython3",
   "version": "3.7.3"
  }
 },
 "nbformat": 4,
 "nbformat_minor": 2
}
